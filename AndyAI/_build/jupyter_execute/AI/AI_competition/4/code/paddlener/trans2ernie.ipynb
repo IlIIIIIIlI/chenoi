{
 "cells": [
  {
   "cell_type": "code",
   "execution_count": 1,
   "metadata": {},
   "outputs": [
    {
     "data": {
      "text/plain": [
       "0       交行14年用过，半年准备提额，却直接被降到1Ｋ，半年期间只T过一次三千，其它全部真实消费，第...\n",
       "1                                     单标我有了，最近visa双标返现活动好\n",
       "2                                             建设银行提额很慢的……\n",
       "3                      我的怎么显示0.25费率，而且不管分多少期都一样费率，可惜只有69k\n",
       "4                                                利率不错，可以撸\n",
       "                              ...                        \n",
       "7523                                                我鼎级拒了\n",
       "7524                         一打一个准，准胜，看激活信用卡时那协议，全是对银行有利的\n",
       "7525                                             招行分期白80k\n",
       "7526                                         5万，额度还行吧没毕业哦\n",
       "7527                                    张家港农商、江阴农商、无锡农商试试\n",
       "Name: text, Length: 7528, dtype: object"
      ]
     },
     "execution_count": 1,
     "metadata": {},
     "output_type": "execute_result"
    }
   ],
   "source": [
    "import pandas as pd\n",
    "\n",
    "# 数据加载\n",
    "train_data = pd.read_csv('./train_data_public.csv')\n",
    "#train_data['BIO_anno'] = train_data['BIO_anno'].apply(lambda x: x.split(' '))\n",
    "#train_data['train_data'] = train_data.apply(lambda row: (list(row['text']), row['BIO_anno']), axis=1)\n",
    "train_data['text']"
   ]
  },
  {
   "cell_type": "code",
   "execution_count": 2,
   "metadata": {},
   "outputs": [],
   "source": [
    "#train_data.loc[0, 'text']\n",
    "train_data['text'] = train_data['text'].str.replace('\\n', '')\n",
    "train_data = train_data[['class', 'text']]\n",
    "train_data.to_csv('./ernie_train.tsv', index=False, sep='\\t')"
   ]
  },
  {
   "cell_type": "code",
   "execution_count": 3,
   "metadata": {},
   "outputs": [],
   "source": [
    "test_data = pd.read_csv('./test_public.csv')\n",
    "#test_data['test_data'] = test_data.apply(lambda row: (list(row['text'])), axis=1)\n",
    "test_data\n",
    "test_data['text'] = test_data['text'].str.replace('\\n', '')\n",
    "test_data['class'] = 0\n",
    "test_data = test_data[['class', 'text']]\n",
    "test_data.to_csv('./ernie_test.tsv', index=False, sep='\\t')"
   ]
  }
 ],
 "metadata": {
  "kernelspec": {
   "display_name": "Python 3",
   "language": "python",
   "name": "python3"
  },
  "language_info": {
   "codemirror_mode": {
    "name": "ipython",
    "version": 3
   },
   "file_extension": ".py",
   "mimetype": "text/x-python",
   "name": "python",
   "nbconvert_exporter": "python",
   "pygments_lexer": "ipython3",
   "version": "3.8.3"
  },
  "toc": {
   "base_numbering": 1,
   "nav_menu": {},
   "number_sections": false,
   "sideBar": true,
   "skip_h1_title": false,
   "title_cell": "Table of Contents",
   "title_sidebar": "Contents",
   "toc_cell": false,
   "toc_position": {},
   "toc_section_display": true,
   "toc_window_display": false
  }
 },
 "nbformat": 4,
 "nbformat_minor": 4
}