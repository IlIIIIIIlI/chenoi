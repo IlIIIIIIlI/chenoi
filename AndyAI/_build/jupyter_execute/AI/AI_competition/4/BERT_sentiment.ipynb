{
 "cells": [
  {
   "cell_type": "markdown",
   "id": "7e6f6205",
   "metadata": {},
   "source": [
    "### BERT可以使用预训练模型，比如先训练下百科全书"
   ]
  },
  {
   "cell_type": "markdown",
   "id": "967fa5b9",
   "metadata": {},
   "source": [
    "adam优化器， adamw对参数区别对待，一些参数不做优化，效率更高"
   ]
  },
  {
   "cell_type": "code",
   "execution_count": null,
   "id": "08aacbad",
   "metadata": {},
   "outputs": [],
   "source": [
    "# pos_text, neg_text = readfile('./'), readfile('./')"
   ]
  },
  {
   "cell_type": "code",
   "execution_count": 1,
   "id": "c87b2581",
   "metadata": {},
   "outputs": [
    {
     "ename": "NameError",
     "evalue": "name 'torch' is not defined",
     "output_type": "error",
     "traceback": [
      "\u001b[1;31m---------------------------------------------------------------------------\u001b[0m",
      "\u001b[1;31mNameError\u001b[0m                                 Traceback (most recent call last)",
      "Input \u001b[1;32mIn [1]\u001b[0m, in \u001b[0;36m<cell line: 1>\u001b[1;34m()\u001b[0m\n\u001b[1;32m----> 1\u001b[0m device \u001b[38;5;241m=\u001b[39m \u001b[43mtorch\u001b[49m\u001b[38;5;241m.\u001b[39mdevice(\u001b[38;5;124m\"\u001b[39m\u001b[38;5;124m\"\u001b[39m)\n",
      "\u001b[1;31mNameError\u001b[0m: name 'torch' is not defined"
     ]
    }
   ],
   "source": [
    "# device = torch.device(\"cuda\" if torch.cuda.is_available() else \"cpu\")\n",
    "# model.to(device)"
   ]
  },
  {
   "cell_type": "markdown",
   "id": "9fd939be",
   "metadata": {},
   "source": [
    "Adam 优化器的原理：权重衰减，过拟合就加正则。"
   ]
  },
  {
   "cell_type": "code",
   "execution_count": null,
   "id": "7dd8c3ae",
   "metadata": {},
   "outputs": [],
   "source": []
  }
 ],
 "metadata": {
  "kernelspec": {
   "display_name": "Python 3 (ipykernel)",
   "language": "python",
   "name": "python3"
  },
  "language_info": {
   "codemirror_mode": {
    "name": "ipython",
    "version": 3
   },
   "file_extension": ".py",
   "mimetype": "text/x-python",
   "name": "python",
   "nbconvert_exporter": "python",
   "pygments_lexer": "ipython3",
   "version": "3.8.3"
  },
  "toc": {
   "base_numbering": 1,
   "nav_menu": {},
   "number_sections": true,
   "sideBar": true,
   "skip_h1_title": false,
   "title_cell": "Table of Contents",
   "title_sidebar": "Contents",
   "toc_cell": false,
   "toc_position": {},
   "toc_section_display": true,
   "toc_window_display": false
  }
 },
 "nbformat": 4,
 "nbformat_minor": 5
}