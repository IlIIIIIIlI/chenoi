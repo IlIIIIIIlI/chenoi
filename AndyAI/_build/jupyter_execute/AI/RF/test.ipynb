{
 "cells": [
  {
   "cell_type": "markdown",
   "metadata": {
    "id": "wtYhEJOLntKg"
   },
   "source": [
    "# COMP90054 AI Planning for Autonomy\n",
    " Solution for Problem Set 01 - Blind Search\n",
    "\n",
    "\n"
   ]
  },
  {
   "cell_type": "markdown",
   "metadata": {
    "id": "gzM1qCxE1yDN"
   },
   "source": [
    " Key concepts:\n",
    "- State-space model\n",
    "- Blind search algorithms: BFS, DFS and ID"
   ]
  },
  {
   "cell_type": "markdown",
   "metadata": {
    "id": "dg5pdTSv10rD"
   },
   "source": [
    "\n",
    " Set up the environment:\n",
    "- Please run the following blocks of code to initialise the *environment*"
   ]
  },
  {
   "cell_type": "code",
   "execution_count": 1,
   "metadata": {
    "colab": {
     "base_uri": "https://localhost:8080/"
    },
    "id": "oaRPfefQPliF",
    "outputId": "92dd6765-8371-4791-e4db-ebdda5d52f50"
   },
   "outputs": [
    {
     "name": "stdout",
     "output_type": "stream",
     "text": [
      "Requirement already satisfied: pydotplus in c:\\users\\19723\\anaconda3\\lib\\site-packages (2.0.2)\n",
      "Requirement already satisfied: pyparsing>=2.0.1 in c:\\users\\19723\\anaconda3\\lib\\site-packages (from pydotplus) (3.0.4)\n"
     ]
    }
   ],
   "source": [
    "!pip install pydotplus"
   ]
  },
  {
   "cell_type": "code",
   "execution_count": 2,
   "metadata": {
    "id": "mAX5ynV3OF2X",
    "tags": [
     "full-width"
    ]
   },
   "outputs": [],
   "source": [
    "import numpy as np\n",
    "import pydotplus\n",
    "from IPython.display import display, Image\n",
    "from ipywidgets import interact"
   ]
  },
  {
   "cell_type": "code",
   "execution_count": 3,
   "metadata": {},
   "outputs": [
    {
     "name": "stdout",
     "output_type": "stream",
     "text": [
      "65*64\n",
      "64*61\n",
      "56*39\n",
      "65*61\n",
      "65*39\n"
     ]
    }
   ],
   "source": [
    "import random \n",
    "\n",
    "a = random.randrange(11, 99)\n",
    "b = random.randrange(11, 99)\n",
    "c = random.randrange(11, 99)\n",
    "d = random.randrange(11, 99)\n",
    "e = random.randrange(11, 99)\n",
    "print(str(a)+\"*\"+str(b))\n",
    "print(str(b)+\"*\"+str(c))\n",
    "print(str(d)+\"*\"+str(e))\n",
    "print(str(a)+\"*\"+str(c))\n",
    "print(str(a)+\"*\"+str(e))"
   ]
  },
  {
   "cell_type": "code",
   "execution_count": 4,
   "metadata": {
    "tags": [
     "hide-output"
    ]
   },
   "outputs": [
    {
     "name": "stdout",
     "output_type": "stream",
     "text": [
      "4160\n",
      "3904\n",
      "2184\n",
      "3965\n",
      "2535\n"
     ]
    }
   ],
   "source": [
    "print(a*b)\n",
    "print(c*b)\n",
    "print(d*e)\n",
    "print(a*c)\n",
    "print(a*e)"
   ]
  },
  {
   "cell_type": "code",
   "execution_count": 5,
   "metadata": {
    "id": "BNTVpXp5Pe0v",
    "tags": [
     "margin"
    ]
   },
   "outputs": [],
   "source": [
    "# Class of the problem\n",
    "\n",
    "class Problem():\n",
    "  initial_state = None\n",
    "  state_space = None\n",
    "  goal_states = None\n",
    "  actions = None\n",
    "  transition_function = None\n",
    "  costs = None\n",
    "\n",
    "  def __init__(self, initial_state, state_space, goal_states, actions, transition_function, costs):\n",
    "    self.initial_state = initial_state\n",
    "    self.state_space = state_space\n",
    "    self.goal_states = goal_states\n",
    "    self.actions = actions\n",
    "    self.transition_function = transition_function\n",
    "    self.costs = costs\n",
    "\n",
    "    self.current_state = self.initial_state\n",
    "    \n",
    "    return \n",
    "  \n",
    "# Helper function to visualize the problem (i.e. draw state transition graph) \n",
    "def generate_state_graph(problem):\n",
    "  state_graph={}\n",
    "  state_graph['nodes'] = {k:{'label':'\\\"{}\\n{}\\\"'.format(k,' ')} for k in sorted(list(problem.state_space))}\n",
    "  state_graph['nodes'][problem.initial_state]['color'] = 'green'\n",
    "  for goal in problem.goal_states:\n",
    "      state_graph['nodes'][goal]['shape'] = 'doublecircle'\n",
    "  state_graph['edge'] = {k:{'label':str(problem.costs[k])} for k in problem.costs.keys()}\n",
    "  return state_graph\n",
    "\n",
    "def render_graph(param):\n",
    "  s = ''\n",
    "  s += 'digraph G { \\n'\n",
    "\n",
    "  for node,tdict in param['nodes'].items():\n",
    "    tstr = node + ' '\n",
    "    if bool(tdict):\n",
    "      tstr += '['\n",
    "      for k,v in tdict.items():\n",
    "        tstr += '{}={},'.format(k,v)\n",
    "      tstr = tstr[:-1] + ']'\n",
    "    tstr += ';\\n'\n",
    "    s+=tstr\n",
    "  \n",
    "  for edge,tdict in param['edge'].items():\n",
    "    tstr = edge[0] + '->' + edge[1] + ' '\n",
    "    if bool(tdict):\n",
    "      tstr += '['\n",
    "      for k,v in tdict.items():\n",
    "        tstr += '{}={},'.format(k,v)\n",
    "      tstr = tstr[:-1] + ']'\n",
    "    tstr += ';\\n'\n",
    "    s+=tstr\n",
    "  s += ' \\n}'\n",
    "\n",
    "  #print (s)\n",
    "  graph = pydotplus.graph_from_dot_data(s)\n",
    "  return graph.create_png()\n",
    "\n",
    "\n",
    "# Visulize the search process (not required)\n",
    "def visulize_search_process(nodes,problem):\n",
    "    progress = []\n",
    "\n",
    "    for i,(state,value,parent) in enumerate(nodes):\n",
    "        param = {}\n",
    "        param['nodes'] = {str(k):{'label':'\\\"n{}\\n{},{},{}\\\"'.format(k,state,cost,parent)} for k,(state,cost,parent) in enumerate(nodes[:i+1])}\n",
    "        \n",
    "        # The newly generated node is red while all other nodes are green \n",
    "        for k in param['nodes']:\n",
    "            param['nodes'][k]['color'] = 'green'\n",
    "        param['nodes'][str(i)]['color'] = 'red'\n",
    "\n",
    "        # Black edges\n",
    "        param['edge'] = {(str(parent), str(k)): {'label': str(problem.costs[(nodes[parent][0], state)])} for k, (state, cost, parent) in enumerate(nodes[:i+1]) if not parent is None}\n",
    "        for edge in param['edge']:\n",
    "            param['edge'][edge]['color'] = 'black'\n",
    "\n",
    "        progress.append(param)\n",
    "\n",
    "    prog_imgs = [render_graph(param) for param in progress]\n",
    "    def show_img(idx):\n",
    "        return display(Image(prog_imgs[idx]))\n",
    "    interact(show_img,idx=(0,len(prog_imgs)-1,1))\n",
    "\n",
    "\n",
    "    \n"
   ]
  },
  {
   "cell_type": "markdown",
   "metadata": {
    "id": "U8f4i2S328SJ"
   },
   "source": [
    "\n",
    "\n",
    "---\n",
    "\n",
    "\n",
    " Example:\n"
   ]
  },
  {
   "cell_type": "markdown",
   "metadata": {
    "id": "3Lus_uhCByRd",
    "tags": [
     "{",
     "\"tags\":",
     "[",
     "\"margin\"",
     "]",
     "}"
    ]
   },
   "source": [
    "# State transition graph:\n",
    "\n",
    "![image.png](data:image/png;base64,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)\n"
   ]
  },
  {
   "cell_type": "markdown",
   "metadata": {
    "id": "CqyZC6ql7Njk"
   },
   "source": [
    "# Code to auto generate state space model (you don't have to use it)"
   ]
  },
  {
   "cell_type": "code",
   "execution_count": 6,
   "metadata": {
    "colab": {
     "base_uri": "https://localhost:8080/"
    },
    "id": "45Gjrc3u6dU_",
    "outputId": "7ebade85-b5f3-48e3-fc79-f77ad94e56f4"
   },
   "outputs": [
    {
     "name": "stdout",
     "output_type": "stream",
     "text": [
      "initial_state=s1\n",
      "state_space={'s7', 's3', 's6', 's2', 's5', 's1', 's4'}\n",
      "goal_states={'s7'}\n",
      "actions={'s1': {('s1', 's3'), ('s1', 's4'), ('s1', 's2')}, 's2': {('s2', 's5')}, 's3': {('s3', 's7')}, 's4': {('s4', 's6')}, 's5': {('s5', 's7')}, 's6': {('s6', 's7')}, 's7': set()}\n",
      "transition_function={('s1', ('s1', 's2')): 's2', ('s1', ('s1', 's3')): 's3', ('s1', ('s1', 's4')): 's4', ('s2', ('s2', 's5')): 's5', ('s3', ('s3', 's7')): 's7', ('s4', ('s4', 's6')): 's6', ('s5', ('s5', 's7')): 's7', ('s6', ('s6', 's7')): 's7'}\n",
      "costs={('s1', 's2'): 2, ('s1', 's3'): 2, ('s1', 's4'): 1, ('s2', 's5'): 2, ('s3', 's7'): 10, ('s4', 's6'): 1, ('s5', 's7'): 3, ('s6', 's7'): 4}\n"
     ]
    }
   ],
   "source": [
    "# Code to auto-generate state space model\n",
    "\n",
    "states = set(['s{}'.format(i) for i in range(1,8)])\n",
    "ini_st = 's1'\n",
    "goal_sts = set(['s7'])\n",
    "\n",
    "costs = {\n",
    "    ('s1','s2'):2,\n",
    "    ('s1','s3'):2,\n",
    "    ('s1','s4'):1,\n",
    "    ('s2','s5'):2,\n",
    "    ('s3','s7'):10,\n",
    "    ('s4','s6'):1,\n",
    "    ('s5','s7'):3,\n",
    "    ('s6','s7'):4,\n",
    "}\n",
    "\n",
    "\n",
    "actions = {'s{}'.format(i): set() for i in range(1,8)}\n",
    "for k1,k2 in costs.keys():\n",
    "  actions[k1].add((k1,k2))\n",
    "\n",
    "tranf = {(k[0],k):k[1] for k in costs.keys()}\n",
    "\n",
    "prob = Problem(initial_state=ini_st, state_space=states, goal_states=goal_sts, actions=actions, transition_function=tranf, costs=costs)\n",
    "\n",
    "print ('initial_state={}'.format(prob.initial_state))\n",
    "print ('state_space={}'.format(prob.state_space))\n",
    "print ('goal_states={}'.format(prob.goal_states))\n",
    "print ('actions={}'.format(prob.actions))\n",
    "print ('transition_function={}'.format(prob.transition_function))\n",
    "print ('costs={}'.format(prob.costs))\n"
   ]
  },
  {
   "cell_type": "markdown",
   "metadata": {
    "id": "prqvYVNs7Z8g"
   },
   "source": [
    "# Code to define the problem (i.e. state space model)"
   ]
  },
  {
   "cell_type": "code",
   "execution_count": 7,
   "metadata": {
    "id": "EA7bnF0C51QK"
   },
   "outputs": [],
   "source": [
    "initial_state = 's1'\n",
    "state_space = {'s3', 's5', 's1', 's2', 's4', 's7', 's6'}\n",
    "goal_states = {'s7'}\n",
    "actions = {'s1': {('s1', 's3'), ('s1', 's2'), ('s1', 's4')}, 's2': {('s2', 's5')}, 's3': {('s3', 's7')}, 's4': {('s4', 's6')}, 's5': {('s5', 's7')}, 's6': {('s6', 's7')}, 's7': set()}\n",
    "transition_function = {('s1', ('s1', 's2')): 's2', ('s1', ('s1', 's3')): 's3', ('s1', ('s1', 's4')): 's4', ('s2', ('s2', 's5')): 's5', ('s3', ('s3', 's7')): 's7', ('s4', ('s4', 's6')): 's6', ('s5', ('s5', 's7')): 's7', ('s6', ('s6', 's7')): 's7'}\n",
    "costs = {('s1', 's2'): 2, ('s1', 's3'): 2, ('s1', 's4'): 1, ('s2', 's5'): 2, ('s3', 's7'): 10, ('s4', 's6'): 1, ('s5', 's7'): 3, ('s6', 's7'): 4}\n",
    "\n",
    "problem = Problem(initial_state, state_space, goal_states, actions, transition_function, costs)"
   ]
  },
  {
   "cell_type": "markdown",
   "metadata": {
    "id": "HGjgFMwg7qr-"
   },
   "source": [
    "# Generate the state transition graph for the problem:"
   ]
  },
  {
   "cell_type": "code",
   "execution_count": 8,
   "metadata": {
    "colab": {
     "base_uri": "https://localhost:8080/",
     "height": 581
    },
    "id": "_5uctAO-9Vwe",
    "outputId": "0ae30dc9-5bae-4223-9f10-ffb8837af280"
   },
   "outputs": [
    {
     "data": {
      "image/png": "[encoded data removed]",
      "text/plain": [
       "<IPython.core.display.Image object>"
      ]
     },
     "metadata": {
      "filenames": {
       "image/png": "C:\\Users\\19723\\Dropbox\\chenoi\\AndyAI\\_build\\jupyter_execute\\AI\\RF\\test_15_0.png"
      }
     },
     "output_type": "display_data"
    }
   ],
   "source": [
    "display(Image(render_graph(generate_state_graph(problem))))"
   ]
  },
  {
   "cell_type": "markdown",
   "metadata": {
    "id": "UC43XOxPC1AW"
   },
   "source": [
    "---\n",
    "\n",
    "\n",
    " Problem 1:"
   ]
  },
  {
   "cell_type": "markdown",
   "metadata": {
    "id": "JnZqmp3q1kWy"
   },
   "source": [
    "\n",
    "Following the above example, define the state-space model of the graph:\n",
    "\n",
    "![image.png](data:image/png;base64,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)"
   ]
  },
  {
   "cell_type": "markdown",
   "metadata": {
    "id": "7nzYjY0-A7M8"
   },
   "source": [
    "# Task 1: please complete the following code:"
   ]
  },
  {
   "cell_type": "code",
   "execution_count": 9,
   "metadata": {
    "id": "6DLhMhd_75OM"
   },
   "outputs": [],
   "source": [
    "initial_state='s1'\n",
    "state_space={'s1', 's2', 's4', 's3'}\n",
    "goal_states={'s4'}\n",
    "actions={'s1': {('s1', 's3'), ('s1', 's2')}, 's2': {('s2', 's3')}, 's3': {('s3', 's4'), ('s3', 's1')}, 's4': set(), 's5': set(), 's6': set(), 's7': set()}\n",
    "transition_function={('s1', ('s1', 's3')): 's3', ('s1', ('s1', 's2')): 's2', ('s2', ('s2', 's3')): 's3', ('s3', ('s3', 's1')): 's1', ('s3', ('s3', 's4')): 's4'}\n",
    "costs={('s1', 's3'): 2, ('s1', 's2'): 1, ('s2', 's3'): 4, ('s3', 's1'): 3, ('s3', 's4'): 5}\n",
    "\n",
    "\n",
    "problem1 = Problem(initial_state, state_space, goal_states, actions, transition_function, costs)"
   ]
  },
  {
   "cell_type": "markdown",
   "metadata": {
    "id": "3GjvxMrlBMYi"
   },
   "source": [
    "# Task 2: try to visulize the state transition graph of your model:"
   ]
  },
  {
   "cell_type": "code",
   "execution_count": 10,
   "metadata": {
    "colab": {
     "base_uri": "https://localhost:8080/",
     "height": 529
    },
    "id": "1fYOilnZ5DU8",
    "outputId": "2bc6f500-44fc-4cb8-a653-11ad0159f2aa"
   },
   "outputs": [
    {
     "data": {
      "image/png": "[encoded data removed]",
      "text/plain": [
       "<IPython.core.display.Image object>"
      ]
     },
     "metadata": {
      "filenames": {
       "image/png": "C:\\Users\\19723\\Dropbox\\chenoi\\AndyAI\\_build\\jupyter_execute\\AI\\RF\\test_21_0.png"
      }
     },
     "output_type": "display_data"
    }
   ],
   "source": [
    "display(Image(render_graph(generate_state_graph(problem1))))"
   ]
  },
  {
   "cell_type": "markdown",
   "metadata": {
    "id": "S8b0115NCVL2"
   },
   "source": [
    " Problem 2"
   ]
  },
  {
   "cell_type": "markdown",
   "metadata": {
    "id": "aZpGj7U_D2U_"
   },
   "source": [
    "Run three common blind search algorithms (i.e. BrFS, DFS and ID) on the given state space model from the Example. What's the difference between the **state transition graph** and the **search tree** generated during the search process？\n",
    "\n"
   ]
  },
  {
   "cell_type": "markdown",
   "metadata": {
    "id": "0Po-5Dxr5ZKw"
   },
   "source": [
    "![image.png](data:image/png;base64,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)\n"
   ]
  },
  {
   "cell_type": "markdown",
   "metadata": {
    "id": "zn5r843A_YUp"
   },
   "source": [
    "# Task 1:\n",
    "Discuss with others, and finish the node expansion order for each algorithm:"
   ]
  },
  {
   "cell_type": "markdown",
   "metadata": {
    "id": "7gYsvDzSEhE9"
   },
   "source": [
    "## BrFS(Breadth First Search):\n"
   ]
  },
  {
   "cell_type": "code",
   "execution_count": 11,
   "metadata": {
    "id": "AAqIDWnqzDYU"
   },
   "outputs": [],
   "source": [
    "#  Expansion node order\n",
    "nodes = [ # (state, accumulated cost, id of parent node)\n",
    "      ('s1',0,None),\n",
    "      ('s2',2,0),\n",
    "      ('s3',2,0),\n",
    "      ('s4',1,0),\n",
    "      ('s5',4,1),\n",
    "      ('s7',12,2)\n",
    "]"
   ]
  },
  {
   "cell_type": "code",
   "execution_count": 12,
   "metadata": {
    "colab": {
     "base_uri": "https://localhost:8080/",
     "height": 550,
     "referenced_widgets": [
      "6f876b7762d94057b290df68e3256688",
      "c049b00c7a9f43dbb9937785b8107aba",
      "6bf9b906328b4d2190f1f3cb31901cab",
      "20737fe5e9ff477e928940afc860834a",
      "9ca2c39724dd45c49af408bf29b774c1",
      "8fb0b5def92d4733b02aef0ec833bbd4",
      "6648b41ca13141be935d6de518cf8b0e"
     ]
    },
    "id": "u9KavEDipYb8",
    "outputId": "3bc6ef45-76c6-4d7d-97bd-e6f81b05b59a"
   },
   "outputs": [
    {
     "data": {
      "application/vnd.jupyter.widget-view+json": {
       "model_id": "c42d038cbfaa440eab41c85752c87fb9",
       "version_major": 2,
       "version_minor": 0
      },
      "text/plain": [
       "interactive(children=(IntSlider(value=2, description='idx', max=5), Output()), _dom_classes=('widget-interact'…"
      ]
     },
     "metadata": {},
     "output_type": "display_data"
    }
   ],
   "source": [
    "visulize_search_process(nodes,problem)"
   ]
  },
  {
   "cell_type": "markdown",
   "metadata": {
    "id": "0PgvEwPbETZk"
   },
   "source": [
    "## DFS(Depth First Search):"
   ]
  },
  {
   "cell_type": "code",
   "execution_count": 13,
   "metadata": {
    "id": "6VLLnA_lEZoq"
   },
   "outputs": [],
   "source": [
    "#  Expansion node order\n",
    "nodes = [ # (state, accumulated cost, id of parent node)\n",
    "      ('s1',0,None),\n",
    "      ('s2',2,0),\n",
    "      ('s5',4,1),\n",
    "      ('s7',7,2)\n",
    "]"
   ]
  },
  {
   "cell_type": "code",
   "execution_count": 14,
   "metadata": {
    "colab": {
     "base_uri": "https://localhost:8080/",
     "height": 271,
     "referenced_widgets": [
      "651550f368c044aaa8633d07e4ba27fa",
      "f144001a0ab0417eb1882cedc3e2d9a1",
      "765495de73b94949ad56c96241181de2",
      "797fb5a902704fae88ad8ff0bbab6d0b",
      "5da84f76b9dd49e1a79dd598a1d39c98",
      "f76594c8793c49b9a761fd7631cbfd6d",
      "f692eb723d684a06b5b5330ebcdc8371"
     ]
    },
    "id": "bzWl8GXuE1Eu",
    "outputId": "38a94bd8-e537-4250-adb7-eafdd6a20a31"
   },
   "outputs": [
    {
     "data": {
      "application/vnd.jupyter.widget-view+json": {
       "model_id": "63e096d24535434c8136afa482d7f41e",
       "version_major": 2,
       "version_minor": 0
      },
      "text/plain": [
       "interactive(children=(IntSlider(value=1, description='idx', max=3), Output()), _dom_classes=('widget-interact'…"
      ]
     },
     "metadata": {},
     "output_type": "display_data"
    }
   ],
   "source": [
    "visulize_search_process(nodes,problem)"
   ]
  },
  {
   "cell_type": "markdown",
   "metadata": {
    "id": "eZD8T2h1GP8k"
   },
   "source": [
    "## ID(Iterative Deepening):"
   ]
  },
  {
   "cell_type": "code",
   "execution_count": 15,
   "metadata": {
    "id": "MjBqaoOUHDAC"
   },
   "outputs": [],
   "source": [
    "#  Expansion node order\n",
    "nodes = [ # (state, accumulated cost, id of parent node)\n",
    "      ('s1',0,None),\n",
    "      ('s1',0,None),\n",
    "      ('s2',2,1),\n",
    "      ('s3',2,1),\n",
    "      ('s4',1,1),\n",
    "      ('s1',0,None),\n",
    "      ('s2',2,5),\n",
    "      ('s5',4,6),\n",
    "      ('s3',2,5),\n",
    "      ('s7',12,8)\n",
    "]"
   ]
  },
  {
   "cell_type": "code",
   "execution_count": 16,
   "metadata": {
    "colab": {
     "base_uri": "https://localhost:8080/",
     "height": 271,
     "referenced_widgets": [
      "ba12b7dcc2524426b3424257d81272f9",
      "3eec7dffd22a412285ad2f19d0d74efd",
      "f15281dc2b1444398dff5d81fd5a30a3",
      "091d510224174823aa33bbf68e1025d4",
      "274d204206ba4cee9d089df6cd47c79b",
      "634eedf20b044448919c84a943ad469e",
      "82559f7396bf4e659866c5a44588a151"
     ]
    },
    "id": "rSFd-6PZH797",
    "outputId": "bddf3eab-0abc-422c-d6a1-da5705cd0d6e"
   },
   "outputs": [
    {
     "data": {
      "application/vnd.jupyter.widget-view+json": {
       "model_id": "4e1dec0929024de48b865a4df6cb6bc7",
       "version_major": 2,
       "version_minor": 0
      },
      "text/plain": [
       "interactive(children=(IntSlider(value=4, description='idx', max=9), Output()), _dom_classes=('widget-interact'…"
      ]
     },
     "metadata": {},
     "output_type": "display_data"
    }
   ],
   "source": [
    "visulize_search_process(nodes,problem)"
   ]
  },
  {
   "cell_type": "markdown",
   "metadata": {
    "id": "UmnUGVCfALwp"
   },
   "source": [
    "# Task 2:"
   ]
  },
  {
   "cell_type": "markdown",
   "metadata": {
    "id": "RXEm1nzzA0CN"
   },
   "source": [
    "## Q1: What is the solution found by each algorithm?"
   ]
  },
  {
   "cell_type": "markdown",
   "metadata": {
    "id": "uDqx6QLEA7_E"
   },
   "source": [
    " \n",
    "\n",
    "*   BrFS: s1 -> s3 -> s7\n",
    "*   DFS: s1 -> s2 -> s5 -> s7 (depends on the tie-break rules)\n",
    "*   ID: s1 -> s3 -> s7\n",
    "\n",
    "\n"
   ]
  },
  {
   "cell_type": "markdown",
   "metadata": {
    "id": "E7KfupOJA8pf"
   },
   "source": [
    "## Q2: What is the actual optimal solution?"
   ]
  },
  {
   "cell_type": "markdown",
   "metadata": {
    "id": "nFAP2Cs5BfzL"
   },
   "source": [
    "*    s1 -> s4 -> s6 -> s7"
   ]
  },
  {
   "cell_type": "markdown",
   "metadata": {
    "id": "vXEd4LMhBgWq"
   },
   "source": [
    "## Q3: Explain under which conditions the algorithms guarantee optimality?"
   ]
  },
  {
   "cell_type": "markdown",
   "metadata": {
    "id": "edH4piKXBuXq"
   },
   "source": [
    "*    BrFS and ID will be optimal if the costs are uniform, such as, all cost are 1"
   ]
  },
  {
   "cell_type": "markdown",
   "metadata": {
    "id": "y0Av9c4xBy6c"
   },
   "source": [
    "## Q4: Can any of the previous algorithms be adapted to account for $g(n)$ in order to make it optimal?"
   ]
  },
  {
   "cell_type": "markdown",
   "metadata": {
    "id": "8MJ_rU_oF252"
   },
   "source": [
    "*    Dijkstra, also known as Uniform search.  Like BrFS but expanding the node with lowest accumulated cost, instead of the lowest depth."
   ]
  },
  {
   "cell_type": "markdown",
   "metadata": {
    "id": "m4KDVuIyPu19"
   },
   "source": [
    " Problem 3:\n"
   ]
  },
  {
   "cell_type": "markdown",
   "metadata": {
    "id": "BVvOhutAP1g1"
   },
   "source": [
    "Describe a simple example of *Travelling Salesman Problem* along with its corresponding **State Space Model**. \n",
    "\n",
    "\n",
    "\n",
    "Definition should be brief, clear, and\n",
    "*compact* (*compact* means using mathematical notation to\n",
    "  define sets, i.e. $S = \\{ x | x \\in V \\}$ to define that there are\n",
    "  as many states as elements in the set $V$, and pseudo-code, i.e. to\n",
    "  define the transition function.)\n",
    "\n",
    "1. State space $S$\n",
    "2. Initial state $s_0 \\in S$\n",
    "3. Set of goal states  $S_G \\subseteq S$\n",
    "4. Applicable actions function $A(s)$ for each state $s \\in S$\n",
    "5. Transition function $f(s,a)$ for $s \\in S$ and $a \\in A(s)$\n",
    "6. Cost of each action $c(a)$ for $a \\in A(s)$"
   ]
  },
  {
   "cell_type": "markdown",
   "metadata": {
    "id": "6rj-WB1ITLIL"
   },
   "source": [
    "**Hint**: Consider a set of cities $V$ to visit in any order, a starting city location $v_{start}$, and a set of edges $E$ specifying if there's an edge from two cities $\\langle v_1, v_2 \\rangle$.\n",
    "Let $V'$ be the set of cities has been visited.\n",
    "\n"
   ]
  },
  {
   "cell_type": "markdown",
   "metadata": {
    "id": "JsXi7KgMJ76k"
   },
   "source": [
    "Let $V'$ be the set contain visited cities:\n",
    "\n",
    "*   $S = \\{ \\langle v_{current}, V' \\rangle | \\, v_{current} \\in V \\land V' \\subseteq V \\}$\n",
    "\n",
    "*   $ s_0 = \\langle v_{start}, \\{v_{start}\\} \\rangle $\n",
    "\n",
    "*   $ S_G = \\{ \\langle v_{current}, V \\rangle | v_{current} \\in V \\} $\n",
    "\n",
    "*   $ A(\\langle v_{current}, V' \\rangle) = \\{ \\langle v_{current} , v_{next} \\rangle | \\, \\langle v_{current}, v_{next} \\rangle \\in E\\} $\n",
    "\n",
    "*    $f(\\langle v_{current}, V'\\rangle, \\langle v_{current}, v_{next} \\rangle)= \\langle v_{next} , V' \\cup \\{v_{next}\\} \\rangle $\n",
    "\n",
    "*    $c(\\langle v_{current} , v_{next} \\rangle) = cost(\\langle v_{current} , v_{next} \\rangle) $\n",
    "\n"
   ]
  },
  {
   "cell_type": "markdown",
   "metadata": {
    "id": "LSrmYAFEUWkx"
   },
   "source": [
    " Challenge Problem 1:"
   ]
  },
  {
   "cell_type": "markdown",
   "metadata": {
    "id": "ZSwCuPTM9SPs"
   },
   "source": [
    "Review problem 2, instead of manual input the node expansion order, now you can try to implement those blind search algorithm on your own."
   ]
  },
  {
   "cell_type": "markdown",
   "metadata": {
    "id": "TCoZgSda9KB3"
   },
   "source": [
    "# State transition graph:\n",
    "\n",
    "![image.png](data:image/png;base64,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)\n"
   ]
  },
  {
   "cell_type": "markdown",
   "metadata": {
    "id": "oCGzbSGEUpTP"
   },
   "source": [
    "# Algorithm Implementation: BFS"
   ]
  },
  {
   "cell_type": "code",
   "execution_count": 17,
   "metadata": {
    "id": "_pEe5X3sVJAH"
   },
   "outputs": [],
   "source": [
    "# Instead of return the final solution, your function here should append the node when it gets expanded, and return the expanded list\n",
    "def BFS(problem):\n",
    "    expansion_order = []\n",
    "    # Your code here:\n",
    "    start_node = (problem.initial_state, 0, None)\n",
    "    queue = [start_node]\n",
    "\n",
    "    while queue:\n",
    "        current_node = queue.pop(0)\n",
    "        expansion_order.append(current_node)\n",
    "        state, accu_cost, parent_node_id = current_node\n",
    "\n",
    "        # Goal Check\n",
    "        if state in problem.goal_states:\n",
    "            return expansion_order\n",
    "\n",
    "        # Add successor nodes into queue (no loop check; randomly tie-break)\n",
    "        for action in problem.actions[state]:\n",
    "            succ_state = problem.transition_function[(state, action)]\n",
    "            cost = accu_cost + problem.costs[action]\n",
    "            queue.append((succ_state, cost, len(expansion_order)-1))\n",
    "\n",
    "    return expansion_order"
   ]
  },
  {
   "cell_type": "code",
   "execution_count": 18,
   "metadata": {
    "colab": {
     "base_uri": "https://localhost:8080/",
     "height": 271,
     "referenced_widgets": [
      "e66e36d64fca4243bcb1b31015cd0024",
      "e35b798a82c04266888d624d56a7336d",
      "c400111f6acf43fe954a07dd0d32c556",
      "66085cc53d1b4880a5b4c71f16506fdb",
      "79e902ad6ad04eb69af5595f62c3b37d",
      "b03fd54232bd410f97a437b806e9878b",
      "85a9053f99174377bd3709648fc8cd1a"
     ]
    },
    "id": "WZRlact4ZWsy",
    "outputId": "f6c83189-08d9-4f6e-d6cc-468bc60c1cf5"
   },
   "outputs": [
    {
     "data": {
      "application/vnd.jupyter.widget-view+json": {
       "model_id": "be1f05cc86834a96861c131a9594fffe",
       "version_major": 2,
       "version_minor": 0
      },
      "text/plain": [
       "interactive(children=(IntSlider(value=2, description='idx', max=4), Output()), _dom_classes=('widget-interact'…"
      ]
     },
     "metadata": {},
     "output_type": "display_data"
    }
   ],
   "source": [
    "visulize_search_process(BFS(problem),problem)"
   ]
  },
  {
   "cell_type": "markdown",
   "metadata": {
    "id": "iUgj54NpaCzE"
   },
   "source": [
    "# Algorithm Implementation: DFS"
   ]
  },
  {
   "cell_type": "code",
   "execution_count": 19,
   "metadata": {
    "id": "6BALYV0faGdE"
   },
   "outputs": [],
   "source": [
    "# Instead of return the final solution, your function here should append the node when it gets expanded, and return the expanded list\n",
    "def DFS(problem):\n",
    "    expansion_order = []\n",
    "    # Your code here:\n",
    "\n",
    "    start_node = (problem.initial_state, 0, None)\n",
    "    stack = [start_node]\n",
    "    while stack:\n",
    "        current_node = stack.pop()\n",
    "        expansion_order.append(current_node)\n",
    "        state, accu_cost, parent_node_id = current_node\n",
    "\n",
    "        # Goal Check\n",
    "        if state in problem.goal_states:\n",
    "            return expansion_order\n",
    "\n",
    "        # Add successor nodes into stack (no loop check; randomly tie-break)\n",
    "        for action in problem.actions[state]:\n",
    "            succ_state = problem.transition_function[(state, action)]\n",
    "            cost = accu_cost + problem.costs[action]\n",
    "            stack.append((succ_state, cost, len(expansion_order)-1))\n",
    "            \n",
    "    return expansion_order"
   ]
  },
  {
   "cell_type": "code",
   "execution_count": 20,
   "metadata": {
    "colab": {
     "base_uri": "https://localhost:8080/",
     "height": 271,
     "referenced_widgets": [
      "3b91822a74384ea890785230c3c29537",
      "00087c7897e848c9beec726a41ee6b9a",
      "0e9d2de7ee7c405ea81500311eef1760",
      "909969f3cbe443b0a08782a48d3e74ef",
      "da585ffd45084aeaacf87484a1a935a7",
      "c52fcde1cee94b5591d579e6881e7ba1",
      "93eee39a3b7b4105bf2815935a983aaf"
     ]
    },
    "id": "seilI7S5aTUM",
    "outputId": "1ff30535-6327-4a80-a64f-936bf3ffa23c"
   },
   "outputs": [
    {
     "data": {
      "application/vnd.jupyter.widget-view+json": {
       "model_id": "f1a1409b38174846a6dc4f8c15615bc3",
       "version_major": 2,
       "version_minor": 0
      },
      "text/plain": [
       "interactive(children=(IntSlider(value=1, description='idx', max=3), Output()), _dom_classes=('widget-interact'…"
      ]
     },
     "metadata": {},
     "output_type": "display_data"
    }
   ],
   "source": [
    "visulize_search_process(DFS(problem),problem)"
   ]
  },
  {
   "cell_type": "markdown",
   "metadata": {
    "id": "JTBmIPngGGi5"
   },
   "source": [
    "# Algorithm Implementation: ID"
   ]
  },
  {
   "cell_type": "code",
   "execution_count": 21,
   "metadata": {
    "id": "7y7ee7IHGGi-"
   },
   "outputs": [],
   "source": [
    "# Instead of return the final solution, your function here should append the node when it gets expanded, and return the expanded list\n",
    "def ID(problem):\n",
    "    expansion_order = []\n",
    "    # Your code here:\n",
    "    max_depth = 0\n",
    "    while True:\n",
    "        start_node = ((problem.initial_state, 0, None), 0)\n",
    "        stack = [start_node]\n",
    "        while stack:\n",
    "            current_node, depth = stack.pop()\n",
    "            expansion_order.append(current_node)\n",
    "            state, accu_cost, parent_node_id = current_node\n",
    "\n",
    "            if state in problem.goal_states:\n",
    "                return expansion_order\n",
    "\n",
    "            if depth < max_depth:\n",
    "                for action in problem.actions[state]:\n",
    "                    succ_state = problem.transition_function[(state, action)]\n",
    "                    cost = accu_cost + problem.costs[action]\n",
    "                    stack.append(((succ_state, cost, len(expansion_order)-1), depth + 1))\n",
    "\n",
    "        max_depth += 1\n",
    "        \n",
    "    return expansion_order"
   ]
  },
  {
   "cell_type": "code",
   "execution_count": 22,
   "metadata": {
    "id": "sRublBFlGGjD"
   },
   "outputs": [
    {
     "data": {
      "application/vnd.jupyter.widget-view+json": {
       "model_id": "c88d5295aa894c3589bfe664879e3857",
       "version_major": 2,
       "version_minor": 0
      },
      "text/plain": [
       "interactive(children=(IntSlider(value=5, description='idx', max=11), Output()), _dom_classes=('widget-interact…"
      ]
     },
     "metadata": {},
     "output_type": "display_data"
    }
   ],
   "source": [
    "visulize_search_process(ID(problem),problem)"
   ]
  }
 ],
 "metadata": {
  "celltoolbar": "Edit Metadata",
  "colab": {
   "collapsed_sections": [
    "m4KDVuIyPu19"
   ],
   "include_colab_link": true,
   "name": "solution_set_01.ipynb",
   "provenance": [],
   "toc_visible": true
  },
  "interpreter": {
   "hash": "e0871a911c0bfa5eb8193266de54d0e9eefcb45ee3e025eb5efaa5ff310592d8"
  },
  "kernelspec": {
   "display_name": "Python 3 (ipykernel)",
   "language": "python",
   "name": "python3"
  },
  "language_info": {
   "codemirror_mode": {
    "name": "ipython",
    "version": 3
   },
   "file_extension": ".py",
   "mimetype": "text/x-python",
   "name": "python",
   "nbconvert_exporter": "python",
   "pygments_lexer": "ipython3",
   "version": "3.8.3"
  },
  "toc": {
   "base_numbering": 1,
   "nav_menu": {},
   "number_sections": true,
   "sideBar": true,
   "skip_h1_title": false,
   "title_cell": "Table of Contents",
   "title_sidebar": "Contents",
   "toc_cell": false,
   "toc_position": {},
   "toc_section_display": true,
   "toc_window_display": false
  },
  "widgets": {
   "application/vnd.jupyter.widget-state+json": {
    "state": {
     "18c522d8d1cf4a268b38a43e5ea753d2": {
      "model_module": "@jupyter-widgets/base",
      "model_module_version": "1.2.0",
      "model_name": "LayoutModel",
      "state": {
       "_model_module": "@jupyter-widgets/base",
       "_model_module_version": "1.2.0",
       "_model_name": "LayoutModel",
       "_view_count": null,
       "_view_module": "@jupyter-widgets/base",
       "_view_module_version": "1.2.0",
       "_view_name": "LayoutView",
       "align_content": null,
       "align_items": null,
       "align_self": null,
       "border": null,
       "bottom": null,
       "display": null,
       "flex": null,
       "flex_flow": null,
       "grid_area": null,
       "grid_auto_columns": null,
       "grid_auto_flow": null,
       "grid_auto_rows": null,
       "grid_column": null,
       "grid_gap": null,
       "grid_row": null,
       "grid_template_areas": null,
       "grid_template_columns": null,
       "grid_template_rows": null,
       "height": null,
       "justify_content": null,
       "justify_items": null,
       "left": null,
       "margin": null,
       "max_height": null,
       "max_width": null,
       "min_height": null,
       "min_width": null,
       "object_fit": null,
       "object_position": null,
       "order": null,
       "overflow": null,
       "overflow_x": null,
       "overflow_y": null,
       "padding": null,
       "right": null,
       "top": null,
       "visibility": null,
       "width": null
      }
     },
     "1a047935ed874c73be66e05961f78830": {
      "model_module": "@jupyter-widgets/base",
      "model_module_version": "1.2.0",
      "model_name": "LayoutModel",
      "state": {
       "_model_module": "@jupyter-widgets/base",
       "_model_module_version": "1.2.0",
       "_model_name": "LayoutModel",
       "_view_count": null,
       "_view_module": "@jupyter-widgets/base",
       "_view_module_version": "1.2.0",
       "_view_name": "LayoutView",
       "align_content": null,
       "align_items": null,
       "align_self": null,
       "border": null,
       "bottom": null,
       "display": null,
       "flex": null,
       "flex_flow": null,
       "grid_area": null,
       "grid_auto_columns": null,
       "grid_auto_flow": null,
       "grid_auto_rows": null,
       "grid_column": null,
       "grid_gap": null,
       "grid_row": null,
       "grid_template_areas": null,
       "grid_template_columns": null,
       "grid_template_rows": null,
       "height": null,
       "justify_content": null,
       "justify_items": null,
       "left": null,
       "margin": null,
       "max_height": null,
       "max_width": null,
       "min_height": null,
       "min_width": null,
       "object_fit": null,
       "object_position": null,
       "order": null,
       "overflow": null,
       "overflow_x": null,
       "overflow_y": null,
       "padding": null,
       "right": null,
       "top": null,
       "visibility": null,
       "width": null
      }
     },
     "1cf7a3ca500040a09dae6a6c788316f4": {
      "model_module": "@jupyter-widgets/base",
      "model_module_version": "1.2.0",
      "model_name": "LayoutModel",
      "state": {
       "_model_module": "@jupyter-widgets/base",
       "_model_module_version": "1.2.0",
       "_model_name": "LayoutModel",
       "_view_count": null,
       "_view_module": "@jupyter-widgets/base",
       "_view_module_version": "1.2.0",
       "_view_name": "LayoutView",
       "align_content": null,
       "align_items": null,
       "align_self": null,
       "border": null,
       "bottom": null,
       "display": null,
       "flex": null,
       "flex_flow": null,
       "grid_area": null,
       "grid_auto_columns": null,
       "grid_auto_flow": null,
       "grid_auto_rows": null,
       "grid_column": null,
       "grid_gap": null,
       "grid_row": null,
       "grid_template_areas": null,
       "grid_template_columns": null,
       "grid_template_rows": null,
       "height": null,
       "justify_content": null,
       "justify_items": null,
       "left": null,
       "margin": null,
       "max_height": null,
       "max_width": null,
       "min_height": null,
       "min_width": null,
       "object_fit": null,
       "object_position": null,
       "order": null,
       "overflow": null,
       "overflow_x": null,
       "overflow_y": null,
       "padding": null,
       "right": null,
       "top": null,
       "visibility": null,
       "width": null
      }
     },
     "1e464fe3f3624bd8b7b4aa18b0e60ef1": {
      "model_module": "@jupyter-widgets/base",
      "model_module_version": "1.2.0",
      "model_name": "LayoutModel",
      "state": {
       "_model_module": "@jupyter-widgets/base",
       "_model_module_version": "1.2.0",
       "_model_name": "LayoutModel",
       "_view_count": null,
       "_view_module": "@jupyter-widgets/base",
       "_view_module_version": "1.2.0",
       "_view_name": "LayoutView",
       "align_content": null,
       "align_items": null,
       "align_self": null,
       "border": null,
       "bottom": null,
       "display": null,
       "flex": null,
       "flex_flow": null,
       "grid_area": null,
       "grid_auto_columns": null,
       "grid_auto_flow": null,
       "grid_auto_rows": null,
       "grid_column": null,
       "grid_gap": null,
       "grid_row": null,
       "grid_template_areas": null,
       "grid_template_columns": null,
       "grid_template_rows": null,
       "height": null,
       "justify_content": null,
       "justify_items": null,
       "left": null,
       "margin": null,
       "max_height": null,
       "max_width": null,
       "min_height": null,
       "min_width": null,
       "object_fit": null,
       "object_position": null,
       "order": null,
       "overflow": null,
       "overflow_x": null,
       "overflow_y": null,
       "padding": null,
       "right": null,
       "top": null,
       "visibility": null,
       "width": null
      }
     },
     "38c898b592464819877a811fc57821af": {
      "model_module": "@jupyter-widgets/output",
      "model_module_version": "1.0.0",
      "model_name": "OutputModel",
      "state": {
       "_dom_classes": [],
       "_model_module": "@jupyter-widgets/output",
       "_model_module_version": "1.0.0",
       "_model_name": "OutputModel",
       "_view_count": null,
       "_view_module": "@jupyter-widgets/output",
       "_view_module_version": "1.0.0",
       "_view_name": "OutputView",
       "layout": "IPY_MODEL_1cf7a3ca500040a09dae6a6c788316f4",
       "msg_id": "",
       "outputs": [
        {
         "data": {
          "image/png": "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\n",
          "text/plain": "<IPython.core.display.Image object>"
         },
         "metadata": {},
         "output_type": "display_data"
        }
       ]
      }
     },
     "4060af8369134f179171e6818c383826": {
      "model_module": "@jupyter-widgets/controls",
      "model_module_version": "1.5.0",
      "model_name": "IntSliderModel",
      "state": {
       "_dom_classes": [],
       "_model_module": "@jupyter-widgets/controls",
       "_model_module_version": "1.5.0",
       "_model_name": "IntSliderModel",
       "_view_count": null,
       "_view_module": "@jupyter-widgets/controls",
       "_view_module_version": "1.5.0",
       "_view_name": "IntSliderView",
       "continuous_update": true,
       "description": "idx",
       "description_tooltip": null,
       "disabled": false,
       "layout": "IPY_MODEL_ecfbd6a2c6d34a5e86bc918a791ecd55",
       "max": 3,
       "min": 0,
       "orientation": "horizontal",
       "readout": true,
       "readout_format": "d",
       "step": 1,
       "style": "IPY_MODEL_7fdc9ecfd3444e4fbb20252f03bee1c1",
       "value": 1
      }
     },
     "4d580ce7c75948f0ba05fa016134cd41": {
      "model_module": "@jupyter-widgets/controls",
      "model_module_version": "1.5.0",
      "model_name": "SliderStyleModel",
      "state": {
       "_model_module": "@jupyter-widgets/controls",
       "_model_module_version": "1.5.0",
       "_model_name": "SliderStyleModel",
       "_view_count": null,
       "_view_module": "@jupyter-widgets/base",
       "_view_module_version": "1.2.0",
       "_view_name": "StyleView",
       "description_width": "",
       "handle_color": null
      }
     },
     "4d69dc4f08af4f6aa5a713dd9e2e53a4": {
      "model_module": "@jupyter-widgets/base",
      "model_module_version": "1.2.0",
      "model_name": "LayoutModel",
      "state": {
       "_model_module": "@jupyter-widgets/base",
       "_model_module_version": "1.2.0",
       "_model_name": "LayoutModel",
       "_view_count": null,
       "_view_module": "@jupyter-widgets/base",
       "_view_module_version": "1.2.0",
       "_view_name": "LayoutView",
       "align_content": null,
       "align_items": null,
       "align_self": null,
       "border": null,
       "bottom": null,
       "display": null,
       "flex": null,
       "flex_flow": null,
       "grid_area": null,
       "grid_auto_columns": null,
       "grid_auto_flow": null,
       "grid_auto_rows": null,
       "grid_column": null,
       "grid_gap": null,
       "grid_row": null,
       "grid_template_areas": null,
       "grid_template_columns": null,
       "grid_template_rows": null,
       "height": null,
       "justify_content": null,
       "justify_items": null,
       "left": null,
       "margin": null,
       "max_height": null,
       "max_width": null,
       "min_height": null,
       "min_width": null,
       "object_fit": null,
       "object_position": null,
       "order": null,
       "overflow": null,
       "overflow_x": null,
       "overflow_y": null,
       "padding": null,
       "right": null,
       "top": null,
       "visibility": null,
       "width": null
      }
     },
     "4e064ad3220f465083cc293ef3e50fef": {
      "model_module": "@jupyter-widgets/controls",
      "model_module_version": "1.5.0",
      "model_name": "IntSliderModel",
      "state": {
       "_dom_classes": [],
       "_model_module": "@jupyter-widgets/controls",
       "_model_module_version": "1.5.0",
       "_model_name": "IntSliderModel",
       "_view_count": null,
       "_view_module": "@jupyter-widgets/controls",
       "_view_module_version": "1.5.0",
       "_view_name": "IntSliderView",
       "continuous_update": true,
       "description": "idx",
       "description_tooltip": null,
       "disabled": false,
       "layout": "IPY_MODEL_ac159bfaf79d4caba8a2a0c785b507d1",
       "max": 5,
       "min": 0,
       "orientation": "horizontal",
       "readout": true,
       "readout_format": "d",
       "step": 1,
       "style": "IPY_MODEL_97509ec95046414a9a0ed04fe182931f",
       "value": 2
      }
     },
     "4e1dec0929024de48b865a4df6cb6bc7": {
      "model_module": "@jupyter-widgets/controls",
      "model_module_version": "1.5.0",
      "model_name": "VBoxModel",
      "state": {
       "_dom_classes": [
        "widget-interact"
       ],
       "_model_module": "@jupyter-widgets/controls",
       "_model_module_version": "1.5.0",
       "_model_name": "VBoxModel",
       "_view_count": null,
       "_view_module": "@jupyter-widgets/controls",
       "_view_module_version": "1.5.0",
       "_view_name": "VBoxView",
       "box_style": "",
       "children": [
        "IPY_MODEL_ef3b741270bd4823a3c1125d26655397",
        "IPY_MODEL_cf38633fd0cb4199a4c7c82da204504a"
       ],
       "layout": "IPY_MODEL_8d9bce47e1b642a881a74d2e1a077bf0"
      }
     },
     "5df4a50239b741a6915c6b480012fd43": {
      "model_module": "@jupyter-widgets/base",
      "model_module_version": "1.2.0",
      "model_name": "LayoutModel",
      "state": {
       "_model_module": "@jupyter-widgets/base",
       "_model_module_version": "1.2.0",
       "_model_name": "LayoutModel",
       "_view_count": null,
       "_view_module": "@jupyter-widgets/base",
       "_view_module_version": "1.2.0",
       "_view_name": "LayoutView",
       "align_content": null,
       "align_items": null,
       "align_self": null,
       "border": null,
       "bottom": null,
       "display": null,
       "flex": null,
       "flex_flow": null,
       "grid_area": null,
       "grid_auto_columns": null,
       "grid_auto_flow": null,
       "grid_auto_rows": null,
       "grid_column": null,
       "grid_gap": null,
       "grid_row": null,
       "grid_template_areas": null,
       "grid_template_columns": null,
       "grid_template_rows": null,
       "height": null,
       "justify_content": null,
       "justify_items": null,
       "left": null,
       "margin": null,
       "max_height": null,
       "max_width": null,
       "min_height": null,
       "min_width": null,
       "object_fit": null,
       "object_position": null,
       "order": null,
       "overflow": null,
       "overflow_x": null,
       "overflow_y": null,
       "padding": null,
       "right": null,
       "top": null,
       "visibility": null,
       "width": null
      }
     },
     "5f1c56f4585e42fc880d16671a8110dd": {
      "model_module": "@jupyter-widgets/output",
      "model_module_version": "1.0.0",
      "model_name": "OutputModel",
      "state": {
       "_dom_classes": [],
       "_model_module": "@jupyter-widgets/output",
       "_model_module_version": "1.0.0",
       "_model_name": "OutputModel",
       "_view_count": null,
       "_view_module": "@jupyter-widgets/output",
       "_view_module_version": "1.0.0",
       "_view_name": "OutputView",
       "layout": "IPY_MODEL_cf7126dd27cf419c81f40aefd5f738dd",
       "msg_id": "",
       "outputs": [
        {
         "data": {
          "image/png": "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\n",
          "text/plain": "<IPython.core.display.Image object>"
         },
         "metadata": {},
         "output_type": "display_data"
        }
       ]
      }
     },
     "63e096d24535434c8136afa482d7f41e": {
      "model_module": "@jupyter-widgets/controls",
      "model_module_version": "1.5.0",
      "model_name": "VBoxModel",
      "state": {
       "_dom_classes": [
        "widget-interact"
       ],
       "_model_module": "@jupyter-widgets/controls",
       "_model_module_version": "1.5.0",
       "_model_name": "VBoxModel",
       "_view_count": null,
       "_view_module": "@jupyter-widgets/controls",
       "_view_module_version": "1.5.0",
       "_view_name": "VBoxView",
       "box_style": "",
       "children": [
        "IPY_MODEL_4060af8369134f179171e6818c383826",
        "IPY_MODEL_eb8b8b987d2c480481662c9d3e282603"
       ],
       "layout": "IPY_MODEL_18c522d8d1cf4a268b38a43e5ea753d2"
      }
     },
     "6e33d0a310264f5bbe36144551c52864": {
      "model_module": "@jupyter-widgets/base",
      "model_module_version": "1.2.0",
      "model_name": "LayoutModel",
      "state": {
       "_model_module": "@jupyter-widgets/base",
       "_model_module_version": "1.2.0",
       "_model_name": "LayoutModel",
       "_view_count": null,
       "_view_module": "@jupyter-widgets/base",
       "_view_module_version": "1.2.0",
       "_view_name": "LayoutView",
       "align_content": null,
       "align_items": null,
       "align_self": null,
       "border": null,
       "bottom": null,
       "display": null,
       "flex": null,
       "flex_flow": null,
       "grid_area": null,
       "grid_auto_columns": null,
       "grid_auto_flow": null,
       "grid_auto_rows": null,
       "grid_column": null,
       "grid_gap": null,
       "grid_row": null,
       "grid_template_areas": null,
       "grid_template_columns": null,
       "grid_template_rows": null,
       "height": null,
       "justify_content": null,
       "justify_items": null,
       "left": null,
       "margin": null,
       "max_height": null,
       "max_width": null,
       "min_height": null,
       "min_width": null,
       "object_fit": null,
       "object_position": null,
       "order": null,
       "overflow": null,
       "overflow_x": null,
       "overflow_y": null,
       "padding": null,
       "right": null,
       "top": null,
       "visibility": null,
       "width": null
      }
     },
     "6e38428935164490a17a3685e8fdbf23": {
      "model_module": "@jupyter-widgets/controls",
      "model_module_version": "1.5.0",
      "model_name": "IntSliderModel",
      "state": {
       "_dom_classes": [],
       "_model_module": "@jupyter-widgets/controls",
       "_model_module_version": "1.5.0",
       "_model_name": "IntSliderModel",
       "_view_count": null,
       "_view_module": "@jupyter-widgets/controls",
       "_view_module_version": "1.5.0",
       "_view_name": "IntSliderView",
       "continuous_update": true,
       "description": "idx",
       "description_tooltip": null,
       "disabled": false,
       "layout": "IPY_MODEL_6e33d0a310264f5bbe36144551c52864",
       "max": 4,
       "min": 0,
       "orientation": "horizontal",
       "readout": true,
       "readout_format": "d",
       "step": 1,
       "style": "IPY_MODEL_e19c055215d845378ed8d99715031d2e",
       "value": 2
      }
     },
     "7fdc9ecfd3444e4fbb20252f03bee1c1": {
      "model_module": "@jupyter-widgets/controls",
      "model_module_version": "1.5.0",
      "model_name": "SliderStyleModel",
      "state": {
       "_model_module": "@jupyter-widgets/controls",
       "_model_module_version": "1.5.0",
       "_model_name": "SliderStyleModel",
       "_view_count": null,
       "_view_module": "@jupyter-widgets/base",
       "_view_module_version": "1.2.0",
       "_view_name": "StyleView",
       "description_width": "",
       "handle_color": null
      }
     },
     "80fab62485f04b1cad8796dc3d08eac0": {
      "model_module": "@jupyter-widgets/output",
      "model_module_version": "1.0.0",
      "model_name": "OutputModel",
      "state": {
       "_dom_classes": [],
       "_model_module": "@jupyter-widgets/output",
       "_model_module_version": "1.0.0",
       "_model_name": "OutputModel",
       "_view_count": null,
       "_view_module": "@jupyter-widgets/output",
       "_view_module_version": "1.0.0",
       "_view_name": "OutputView",
       "layout": "IPY_MODEL_4d69dc4f08af4f6aa5a713dd9e2e53a4",
       "msg_id": "",
       "outputs": [
        {
         "data": {
          "image/png": "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\n",
          "text/plain": "<IPython.core.display.Image object>"
         },
         "metadata": {},
         "output_type": "display_data"
        }
       ]
      }
     },
     "8646807ec937427dbcedea61bb9116a9": {
      "model_module": "@jupyter-widgets/base",
      "model_module_version": "1.2.0",
      "model_name": "LayoutModel",
      "state": {
       "_model_module": "@jupyter-widgets/base",
       "_model_module_version": "1.2.0",
       "_model_name": "LayoutModel",
       "_view_count": null,
       "_view_module": "@jupyter-widgets/base",
       "_view_module_version": "1.2.0",
       "_view_name": "LayoutView",
       "align_content": null,
       "align_items": null,
       "align_self": null,
       "border": null,
       "bottom": null,
       "display": null,
       "flex": null,
       "flex_flow": null,
       "grid_area": null,
       "grid_auto_columns": null,
       "grid_auto_flow": null,
       "grid_auto_rows": null,
       "grid_column": null,
       "grid_gap": null,
       "grid_row": null,
       "grid_template_areas": null,
       "grid_template_columns": null,
       "grid_template_rows": null,
       "height": null,
       "justify_content": null,
       "justify_items": null,
       "left": null,
       "margin": null,
       "max_height": null,
       "max_width": null,
       "min_height": null,
       "min_width": null,
       "object_fit": null,
       "object_position": null,
       "order": null,
       "overflow": null,
       "overflow_x": null,
       "overflow_y": null,
       "padding": null,
       "right": null,
       "top": null,
       "visibility": null,
       "width": null
      }
     },
     "8699b625d45a4d3aab614602a2be14f8": {
      "model_module": "@jupyter-widgets/controls",
      "model_module_version": "1.5.0",
      "model_name": "IntSliderModel",
      "state": {
       "_dom_classes": [],
       "_model_module": "@jupyter-widgets/controls",
       "_model_module_version": "1.5.0",
       "_model_name": "IntSliderModel",
       "_view_count": null,
       "_view_module": "@jupyter-widgets/controls",
       "_view_module_version": "1.5.0",
       "_view_name": "IntSliderView",
       "continuous_update": true,
       "description": "idx",
       "description_tooltip": null,
       "disabled": false,
       "layout": "IPY_MODEL_e607944b215b4bb99417e97cacddeac7",
       "max": 11,
       "min": 0,
       "orientation": "horizontal",
       "readout": true,
       "readout_format": "d",
       "step": 1,
       "style": "IPY_MODEL_4d580ce7c75948f0ba05fa016134cd41",
       "value": 5
      }
     },
     "8d9bce47e1b642a881a74d2e1a077bf0": {
      "model_module": "@jupyter-widgets/base",
      "model_module_version": "1.2.0",
      "model_name": "LayoutModel",
      "state": {
       "_model_module": "@jupyter-widgets/base",
       "_model_module_version": "1.2.0",
       "_model_name": "LayoutModel",
       "_view_count": null,
       "_view_module": "@jupyter-widgets/base",
       "_view_module_version": "1.2.0",
       "_view_name": "LayoutView",
       "align_content": null,
       "align_items": null,
       "align_self": null,
       "border": null,
       "bottom": null,
       "display": null,
       "flex": null,
       "flex_flow": null,
       "grid_area": null,
       "grid_auto_columns": null,
       "grid_auto_flow": null,
       "grid_auto_rows": null,
       "grid_column": null,
       "grid_gap": null,
       "grid_row": null,
       "grid_template_areas": null,
       "grid_template_columns": null,
       "grid_template_rows": null,
       "height": null,
       "justify_content": null,
       "justify_items": null,
       "left": null,
       "margin": null,
       "max_height": null,
       "max_width": null,
       "min_height": null,
       "min_width": null,
       "object_fit": null,
       "object_position": null,
       "order": null,
       "overflow": null,
       "overflow_x": null,
       "overflow_y": null,
       "padding": null,
       "right": null,
       "top": null,
       "visibility": null,
       "width": null
      }
     },
     "91002c20a605462dbefc955fffae0c0b": {
      "model_module": "@jupyter-widgets/base",
      "model_module_version": "1.2.0",
      "model_name": "LayoutModel",
      "state": {
       "_model_module": "@jupyter-widgets/base",
       "_model_module_version": "1.2.0",
       "_model_name": "LayoutModel",
       "_view_count": null,
       "_view_module": "@jupyter-widgets/base",
       "_view_module_version": "1.2.0",
       "_view_name": "LayoutView",
       "align_content": null,
       "align_items": null,
       "align_self": null,
       "border": null,
       "bottom": null,
       "display": null,
       "flex": null,
       "flex_flow": null,
       "grid_area": null,
       "grid_auto_columns": null,
       "grid_auto_flow": null,
       "grid_auto_rows": null,
       "grid_column": null,
       "grid_gap": null,
       "grid_row": null,
       "grid_template_areas": null,
       "grid_template_columns": null,
       "grid_template_rows": null,
       "height": null,
       "justify_content": null,
       "justify_items": null,
       "left": null,
       "margin": null,
       "max_height": null,
       "max_width": null,
       "min_height": null,
       "min_width": null,
       "object_fit": null,
       "object_position": null,
       "order": null,
       "overflow": null,
       "overflow_x": null,
       "overflow_y": null,
       "padding": null,
       "right": null,
       "top": null,
       "visibility": null,
       "width": null
      }
     },
     "91463e0dd3ca4feebf3ef1dd33b563aa": {
      "model_module": "@jupyter-widgets/base",
      "model_module_version": "1.2.0",
      "model_name": "LayoutModel",
      "state": {
       "_model_module": "@jupyter-widgets/base",
       "_model_module_version": "1.2.0",
       "_model_name": "LayoutModel",
       "_view_count": null,
       "_view_module": "@jupyter-widgets/base",
       "_view_module_version": "1.2.0",
       "_view_name": "LayoutView",
       "align_content": null,
       "align_items": null,
       "align_self": null,
       "border": null,
       "bottom": null,
       "display": null,
       "flex": null,
       "flex_flow": null,
       "grid_area": null,
       "grid_auto_columns": null,
       "grid_auto_flow": null,
       "grid_auto_rows": null,
       "grid_column": null,
       "grid_gap": null,
       "grid_row": null,
       "grid_template_areas": null,
       "grid_template_columns": null,
       "grid_template_rows": null,
       "height": null,
       "justify_content": null,
       "justify_items": null,
       "left": null,
       "margin": null,
       "max_height": null,
       "max_width": null,
       "min_height": null,
       "min_width": null,
       "object_fit": null,
       "object_position": null,
       "order": null,
       "overflow": null,
       "overflow_x": null,
       "overflow_y": null,
       "padding": null,
       "right": null,
       "top": null,
       "visibility": null,
       "width": null
      }
     },
     "91569b969bf241f892066dc9ac6929a3": {
      "model_module": "@jupyter-widgets/base",
      "model_module_version": "1.2.0",
      "model_name": "LayoutModel",
      "state": {
       "_model_module": "@jupyter-widgets/base",
       "_model_module_version": "1.2.0",
       "_model_name": "LayoutModel",
       "_view_count": null,
       "_view_module": "@jupyter-widgets/base",
       "_view_module_version": "1.2.0",
       "_view_name": "LayoutView",
       "align_content": null,
       "align_items": null,
       "align_self": null,
       "border": null,
       "bottom": null,
       "display": null,
       "flex": null,
       "flex_flow": null,
       "grid_area": null,
       "grid_auto_columns": null,
       "grid_auto_flow": null,
       "grid_auto_rows": null,
       "grid_column": null,
       "grid_gap": null,
       "grid_row": null,
       "grid_template_areas": null,
       "grid_template_columns": null,
       "grid_template_rows": null,
       "height": null,
       "justify_content": null,
       "justify_items": null,
       "left": null,
       "margin": null,
       "max_height": null,
       "max_width": null,
       "min_height": null,
       "min_width": null,
       "object_fit": null,
       "object_position": null,
       "order": null,
       "overflow": null,
       "overflow_x": null,
       "overflow_y": null,
       "padding": null,
       "right": null,
       "top": null,
       "visibility": null,
       "width": null
      }
     },
     "97509ec95046414a9a0ed04fe182931f": {
      "model_module": "@jupyter-widgets/controls",
      "model_module_version": "1.5.0",
      "model_name": "SliderStyleModel",
      "state": {
       "_model_module": "@jupyter-widgets/controls",
       "_model_module_version": "1.5.0",
       "_model_name": "SliderStyleModel",
       "_view_count": null,
       "_view_module": "@jupyter-widgets/base",
       "_view_module_version": "1.2.0",
       "_view_name": "StyleView",
       "description_width": "",
       "handle_color": null
      }
     },
     "9a1d02bba486424d950a2866083d7223": {
      "model_module": "@jupyter-widgets/base",
      "model_module_version": "1.2.0",
      "model_name": "LayoutModel",
      "state": {
       "_model_module": "@jupyter-widgets/base",
       "_model_module_version": "1.2.0",
       "_model_name": "LayoutModel",
       "_view_count": null,
       "_view_module": "@jupyter-widgets/base",
       "_view_module_version": "1.2.0",
       "_view_name": "LayoutView",
       "align_content": null,
       "align_items": null,
       "align_self": null,
       "border": null,
       "bottom": null,
       "display": null,
       "flex": null,
       "flex_flow": null,
       "grid_area": null,
       "grid_auto_columns": null,
       "grid_auto_flow": null,
       "grid_auto_rows": null,
       "grid_column": null,
       "grid_gap": null,
       "grid_row": null,
       "grid_template_areas": null,
       "grid_template_columns": null,
       "grid_template_rows": null,
       "height": null,
       "justify_content": null,
       "justify_items": null,
       "left": null,
       "margin": null,
       "max_height": null,
       "max_width": null,
       "min_height": null,
       "min_width": null,
       "object_fit": null,
       "object_position": null,
       "order": null,
       "overflow": null,
       "overflow_x": null,
       "overflow_y": null,
       "padding": null,
       "right": null,
       "top": null,
       "visibility": null,
       "width": null
      }
     },
     "9aafca9a66c24decb85b37304ce392d5": {
      "model_module": "@jupyter-widgets/output",
      "model_module_version": "1.0.0",
      "model_name": "OutputModel",
      "state": {
       "_dom_classes": [],
       "_model_module": "@jupyter-widgets/output",
       "_model_module_version": "1.0.0",
       "_model_name": "OutputModel",
       "_view_count": null,
       "_view_module": "@jupyter-widgets/output",
       "_view_module_version": "1.0.0",
       "_view_name": "OutputView",
       "layout": "IPY_MODEL_91569b969bf241f892066dc9ac6929a3",
       "msg_id": "",
       "outputs": [
        {
         "data": {
          "image/png": "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\n",
          "text/plain": "<IPython.core.display.Image object>"
         },
         "metadata": {},
         "output_type": "display_data"
        }
       ]
      }
     },
     "ac159bfaf79d4caba8a2a0c785b507d1": {
      "model_module": "@jupyter-widgets/base",
      "model_module_version": "1.2.0",
      "model_name": "LayoutModel",
      "state": {
       "_model_module": "@jupyter-widgets/base",
       "_model_module_version": "1.2.0",
       "_model_name": "LayoutModel",
       "_view_count": null,
       "_view_module": "@jupyter-widgets/base",
       "_view_module_version": "1.2.0",
       "_view_name": "LayoutView",
       "align_content": null,
       "align_items": null,
       "align_self": null,
       "border": null,
       "bottom": null,
       "display": null,
       "flex": null,
       "flex_flow": null,
       "grid_area": null,
       "grid_auto_columns": null,
       "grid_auto_flow": null,
       "grid_auto_rows": null,
       "grid_column": null,
       "grid_gap": null,
       "grid_row": null,
       "grid_template_areas": null,
       "grid_template_columns": null,
       "grid_template_rows": null,
       "height": null,
       "justify_content": null,
       "justify_items": null,
       "left": null,
       "margin": null,
       "max_height": null,
       "max_width": null,
       "min_height": null,
       "min_width": null,
       "object_fit": null,
       "object_position": null,
       "order": null,
       "overflow": null,
       "overflow_x": null,
       "overflow_y": null,
       "padding": null,
       "right": null,
       "top": null,
       "visibility": null,
       "width": null
      }
     },
     "b55a1b2b7c304629bac96a4e891e5ae8": {
      "model_module": "@jupyter-widgets/controls",
      "model_module_version": "1.5.0",
      "model_name": "SliderStyleModel",
      "state": {
       "_model_module": "@jupyter-widgets/controls",
       "_model_module_version": "1.5.0",
       "_model_name": "SliderStyleModel",
       "_view_count": null,
       "_view_module": "@jupyter-widgets/base",
       "_view_module_version": "1.2.0",
       "_view_name": "StyleView",
       "description_width": "",
       "handle_color": null
      }
     },
     "b6769ad44e9e42b4adf8d4581b401337": {
      "model_module": "@jupyter-widgets/controls",
      "model_module_version": "1.5.0",
      "model_name": "IntSliderModel",
      "state": {
       "_dom_classes": [],
       "_model_module": "@jupyter-widgets/controls",
       "_model_module_version": "1.5.0",
       "_model_name": "IntSliderModel",
       "_view_count": null,
       "_view_module": "@jupyter-widgets/controls",
       "_view_module_version": "1.5.0",
       "_view_name": "IntSliderView",
       "continuous_update": true,
       "description": "idx",
       "description_tooltip": null,
       "disabled": false,
       "layout": "IPY_MODEL_1e464fe3f3624bd8b7b4aa18b0e60ef1",
       "max": 3,
       "min": 0,
       "orientation": "horizontal",
       "readout": true,
       "readout_format": "d",
       "step": 1,
       "style": "IPY_MODEL_b55a1b2b7c304629bac96a4e891e5ae8",
       "value": 1
      }
     },
     "be1f05cc86834a96861c131a9594fffe": {
      "model_module": "@jupyter-widgets/controls",
      "model_module_version": "1.5.0",
      "model_name": "VBoxModel",
      "state": {
       "_dom_classes": [
        "widget-interact"
       ],
       "_model_module": "@jupyter-widgets/controls",
       "_model_module_version": "1.5.0",
       "_model_name": "VBoxModel",
       "_view_count": null,
       "_view_module": "@jupyter-widgets/controls",
       "_view_module_version": "1.5.0",
       "_view_name": "VBoxView",
       "box_style": "",
       "children": [
        "IPY_MODEL_6e38428935164490a17a3685e8fdbf23",
        "IPY_MODEL_5f1c56f4585e42fc880d16671a8110dd"
       ],
       "layout": "IPY_MODEL_1a047935ed874c73be66e05961f78830"
      }
     },
     "c42d038cbfaa440eab41c85752c87fb9": {
      "model_module": "@jupyter-widgets/controls",
      "model_module_version": "1.5.0",
      "model_name": "VBoxModel",
      "state": {
       "_dom_classes": [
        "widget-interact"
       ],
       "_model_module": "@jupyter-widgets/controls",
       "_model_module_version": "1.5.0",
       "_model_name": "VBoxModel",
       "_view_count": null,
       "_view_module": "@jupyter-widgets/controls",
       "_view_module_version": "1.5.0",
       "_view_name": "VBoxView",
       "box_style": "",
       "children": [
        "IPY_MODEL_4e064ad3220f465083cc293ef3e50fef",
        "IPY_MODEL_38c898b592464819877a811fc57821af"
       ],
       "layout": "IPY_MODEL_8646807ec937427dbcedea61bb9116a9"
      }
     },
     "c88d5295aa894c3589bfe664879e3857": {
      "model_module": "@jupyter-widgets/controls",
      "model_module_version": "1.5.0",
      "model_name": "VBoxModel",
      "state": {
       "_dom_classes": [
        "widget-interact"
       ],
       "_model_module": "@jupyter-widgets/controls",
       "_model_module_version": "1.5.0",
       "_model_name": "VBoxModel",
       "_view_count": null,
       "_view_module": "@jupyter-widgets/controls",
       "_view_module_version": "1.5.0",
       "_view_name": "VBoxView",
       "box_style": "",
       "children": [
        "IPY_MODEL_8699b625d45a4d3aab614602a2be14f8",
        "IPY_MODEL_80fab62485f04b1cad8796dc3d08eac0"
       ],
       "layout": "IPY_MODEL_91002c20a605462dbefc955fffae0c0b"
      }
     },
     "cdca7e818fd8419aa235427710f762d6": {
      "model_module": "@jupyter-widgets/controls",
      "model_module_version": "1.5.0",
      "model_name": "SliderStyleModel",
      "state": {
       "_model_module": "@jupyter-widgets/controls",
       "_model_module_version": "1.5.0",
       "_model_name": "SliderStyleModel",
       "_view_count": null,
       "_view_module": "@jupyter-widgets/base",
       "_view_module_version": "1.2.0",
       "_view_name": "StyleView",
       "description_width": "",
       "handle_color": null
      }
     },
     "cf38633fd0cb4199a4c7c82da204504a": {
      "model_module": "@jupyter-widgets/output",
      "model_module_version": "1.0.0",
      "model_name": "OutputModel",
      "state": {
       "_dom_classes": [],
       "_model_module": "@jupyter-widgets/output",
       "_model_module_version": "1.0.0",
       "_model_name": "OutputModel",
       "_view_count": null,
       "_view_module": "@jupyter-widgets/output",
       "_view_module_version": "1.0.0",
       "_view_name": "OutputView",
       "layout": "IPY_MODEL_91463e0dd3ca4feebf3ef1dd33b563aa",
       "msg_id": "",
       "outputs": [
        {
         "data": {
          "image/png": "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\n",
          "text/plain": "<IPython.core.display.Image object>"
         },
         "metadata": {},
         "output_type": "display_data"
        }
       ]
      }
     },
     "cf7126dd27cf419c81f40aefd5f738dd": {
      "model_module": "@jupyter-widgets/base",
      "model_module_version": "1.2.0",
      "model_name": "LayoutModel",
      "state": {
       "_model_module": "@jupyter-widgets/base",
       "_model_module_version": "1.2.0",
       "_model_name": "LayoutModel",
       "_view_count": null,
       "_view_module": "@jupyter-widgets/base",
       "_view_module_version": "1.2.0",
       "_view_name": "LayoutView",
       "align_content": null,
       "align_items": null,
       "align_self": null,
       "border": null,
       "bottom": null,
       "display": null,
       "flex": null,
       "flex_flow": null,
       "grid_area": null,
       "grid_auto_columns": null,
       "grid_auto_flow": null,
       "grid_auto_rows": null,
       "grid_column": null,
       "grid_gap": null,
       "grid_row": null,
       "grid_template_areas": null,
       "grid_template_columns": null,
       "grid_template_rows": null,
       "height": null,
       "justify_content": null,
       "justify_items": null,
       "left": null,
       "margin": null,
       "max_height": null,
       "max_width": null,
       "min_height": null,
       "min_width": null,
       "object_fit": null,
       "object_position": null,
       "order": null,
       "overflow": null,
       "overflow_x": null,
       "overflow_y": null,
       "padding": null,
       "right": null,
       "top": null,
       "visibility": null,
       "width": null
      }
     },
     "df6827df3c014a909763e3c4117bd025": {
      "model_module": "@jupyter-widgets/base",
      "model_module_version": "1.2.0",
      "model_name": "LayoutModel",
      "state": {
       "_model_module": "@jupyter-widgets/base",
       "_model_module_version": "1.2.0",
       "_model_name": "LayoutModel",
       "_view_count": null,
       "_view_module": "@jupyter-widgets/base",
       "_view_module_version": "1.2.0",
       "_view_name": "LayoutView",
       "align_content": null,
       "align_items": null,
       "align_self": null,
       "border": null,
       "bottom": null,
       "display": null,
       "flex": null,
       "flex_flow": null,
       "grid_area": null,
       "grid_auto_columns": null,
       "grid_auto_flow": null,
       "grid_auto_rows": null,
       "grid_column": null,
       "grid_gap": null,
       "grid_row": null,
       "grid_template_areas": null,
       "grid_template_columns": null,
       "grid_template_rows": null,
       "height": null,
       "justify_content": null,
       "justify_items": null,
       "left": null,
       "margin": null,
       "max_height": null,
       "max_width": null,
       "min_height": null,
       "min_width": null,
       "object_fit": null,
       "object_position": null,
       "order": null,
       "overflow": null,
       "overflow_x": null,
       "overflow_y": null,
       "padding": null,
       "right": null,
       "top": null,
       "visibility": null,
       "width": null
      }
     },
     "e19c055215d845378ed8d99715031d2e": {
      "model_module": "@jupyter-widgets/controls",
      "model_module_version": "1.5.0",
      "model_name": "SliderStyleModel",
      "state": {
       "_model_module": "@jupyter-widgets/controls",
       "_model_module_version": "1.5.0",
       "_model_name": "SliderStyleModel",
       "_view_count": null,
       "_view_module": "@jupyter-widgets/base",
       "_view_module_version": "1.2.0",
       "_view_name": "StyleView",
       "description_width": "",
       "handle_color": null
      }
     },
     "e607944b215b4bb99417e97cacddeac7": {
      "model_module": "@jupyter-widgets/base",
      "model_module_version": "1.2.0",
      "model_name": "LayoutModel",
      "state": {
       "_model_module": "@jupyter-widgets/base",
       "_model_module_version": "1.2.0",
       "_model_name": "LayoutModel",
       "_view_count": null,
       "_view_module": "@jupyter-widgets/base",
       "_view_module_version": "1.2.0",
       "_view_name": "LayoutView",
       "align_content": null,
       "align_items": null,
       "align_self": null,
       "border": null,
       "bottom": null,
       "display": null,
       "flex": null,
       "flex_flow": null,
       "grid_area": null,
       "grid_auto_columns": null,
       "grid_auto_flow": null,
       "grid_auto_rows": null,
       "grid_column": null,
       "grid_gap": null,
       "grid_row": null,
       "grid_template_areas": null,
       "grid_template_columns": null,
       "grid_template_rows": null,
       "height": null,
       "justify_content": null,
       "justify_items": null,
       "left": null,
       "margin": null,
       "max_height": null,
       "max_width": null,
       "min_height": null,
       "min_width": null,
       "object_fit": null,
       "object_position": null,
       "order": null,
       "overflow": null,
       "overflow_x": null,
       "overflow_y": null,
       "padding": null,
       "right": null,
       "top": null,
       "visibility": null,
       "width": null
      }
     },
     "eb8b8b987d2c480481662c9d3e282603": {
      "model_module": "@jupyter-widgets/output",
      "model_module_version": "1.0.0",
      "model_name": "OutputModel",
      "state": {
       "_dom_classes": [],
       "_model_module": "@jupyter-widgets/output",
       "_model_module_version": "1.0.0",
       "_model_name": "OutputModel",
       "_view_count": null,
       "_view_module": "@jupyter-widgets/output",
       "_view_module_version": "1.0.0",
       "_view_name": "OutputView",
       "layout": "IPY_MODEL_df6827df3c014a909763e3c4117bd025",
       "msg_id": "",
       "outputs": [
        {
         "data": {
          "image/png": "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\n",
          "text/plain": "<IPython.core.display.Image object>"
         },
         "metadata": {},
         "output_type": "display_data"
        }
       ]
      }
     },
     "ecfbd6a2c6d34a5e86bc918a791ecd55": {
      "model_module": "@jupyter-widgets/base",
      "model_module_version": "1.2.0",
      "model_name": "LayoutModel",
      "state": {
       "_model_module": "@jupyter-widgets/base",
       "_model_module_version": "1.2.0",
       "_model_name": "LayoutModel",
       "_view_count": null,
       "_view_module": "@jupyter-widgets/base",
       "_view_module_version": "1.2.0",
       "_view_name": "LayoutView",
       "align_content": null,
       "align_items": null,
       "align_self": null,
       "border": null,
       "bottom": null,
       "display": null,
       "flex": null,
       "flex_flow": null,
       "grid_area": null,
       "grid_auto_columns": null,
       "grid_auto_flow": null,
       "grid_auto_rows": null,
       "grid_column": null,
       "grid_gap": null,
       "grid_row": null,
       "grid_template_areas": null,
       "grid_template_columns": null,
       "grid_template_rows": null,
       "height": null,
       "justify_content": null,
       "justify_items": null,
       "left": null,
       "margin": null,
       "max_height": null,
       "max_width": null,
       "min_height": null,
       "min_width": null,
       "object_fit": null,
       "object_position": null,
       "order": null,
       "overflow": null,
       "overflow_x": null,
       "overflow_y": null,
       "padding": null,
       "right": null,
       "top": null,
       "visibility": null,
       "width": null
      }
     },
     "ef3b741270bd4823a3c1125d26655397": {
      "model_module": "@jupyter-widgets/controls",
      "model_module_version": "1.5.0",
      "model_name": "IntSliderModel",
      "state": {
       "_dom_classes": [],
       "_model_module": "@jupyter-widgets/controls",
       "_model_module_version": "1.5.0",
       "_model_name": "IntSliderModel",
       "_view_count": null,
       "_view_module": "@jupyter-widgets/controls",
       "_view_module_version": "1.5.0",
       "_view_name": "IntSliderView",
       "continuous_update": true,
       "description": "idx",
       "description_tooltip": null,
       "disabled": false,
       "layout": "IPY_MODEL_5df4a50239b741a6915c6b480012fd43",
       "max": 9,
       "min": 0,
       "orientation": "horizontal",
       "readout": true,
       "readout_format": "d",
       "step": 1,
       "style": "IPY_MODEL_cdca7e818fd8419aa235427710f762d6",
       "value": 4
      }
     },
     "f1a1409b38174846a6dc4f8c15615bc3": {
      "model_module": "@jupyter-widgets/controls",
      "model_module_version": "1.5.0",
      "model_name": "VBoxModel",
      "state": {
       "_dom_classes": [
        "widget-interact"
       ],
       "_model_module": "@jupyter-widgets/controls",
       "_model_module_version": "1.5.0",
       "_model_name": "VBoxModel",
       "_view_count": null,
       "_view_module": "@jupyter-widgets/controls",
       "_view_module_version": "1.5.0",
       "_view_name": "VBoxView",
       "box_style": "",
       "children": [
        "IPY_MODEL_b6769ad44e9e42b4adf8d4581b401337",
        "IPY_MODEL_9aafca9a66c24decb85b37304ce392d5"
       ],
       "layout": "IPY_MODEL_9a1d02bba486424d950a2866083d7223"
      }
     }
    },
    "version_major": 2,
    "version_minor": 0
   }
  }
 },
 "nbformat": 4,
 "nbformat_minor": 1
}