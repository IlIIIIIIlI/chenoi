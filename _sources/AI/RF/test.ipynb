{
 "cells": [
  {
   "cell_type": "markdown",
   "metadata": {
    "id": "wtYhEJOLntKg"
   },
   "source": [
    "# COMP90054 AI Planning for Autonomy\n",
    " Solution for Problem Set 01 - Blind Search\n",
    "\n",
    "\n"
   ]
  },
  {
   "cell_type": "markdown",
   "metadata": {
    "id": "gzM1qCxE1yDN"
   },
   "source": [
    " Key concepts:\n",
    "- State-space model\n",
    "- Blind search algorithms: BFS, DFS and ID"
   ]
  },
  {
   "cell_type": "markdown",
   "metadata": {
    "id": "dg5pdTSv10rD"
   },
   "source": [
    "\n",
    " Set up the environment:\n",
    "- Please run the following blocks of code to initialise the *environment*"
   ]
  },
  {
   "cell_type": "code",
   "execution_count": null,
   "metadata": {
    "colab": {
     "base_uri": "https://localhost:8080/"
    },
    "id": "oaRPfefQPliF",
    "outputId": "92dd6765-8371-4791-e4db-ebdda5d52f50"
   },
   "outputs": [
    {
     "name": "stdout",
     "output_type": "stream",
     "text": [
      "Requirement already satisfied: pydotplus in /usr/local/lib/python3.7/dist-packages (2.0.2)\n",
      "Requirement already satisfied: pyparsing>=2.0.1 in /usr/local/lib/python3.7/dist-packages (from pydotplus) (2.4.7)\n"
     ]
    }
   ],
   "source": [
    "!pip install pydotplus"
   ]
  },
  {
   "cell_type": "code",
   "execution_count": 2,
   "metadata": {
    "id": "mAX5ynV3OF2X",
    "tags": [
     "full-width"
    ]
   },
   "outputs": [],
   "source": [
    "import numpy as np\n",
    "import pydotplus\n",
    "from IPython.display import display, Image\n",
    "from ipywidgets import interact"
   ]
  },
  {
   "cell_type": "code",
   "execution_count": 6,
   "metadata": {},
   "outputs": [
    {
     "name": "stdout",
     "output_type": "stream",
     "text": [
      "30\n",
      "*\n",
      "13\n"
     ]
    },
    {
     "ename": "ValueError",
     "evalue": "invalid literal for int() with base 10: ''",
     "output_type": "error",
     "traceback": [
      "\u001b[1;31m---------------------------------------------------------------------------\u001b[0m",
      "\u001b[1;31mValueError\u001b[0m                                Traceback (most recent call last)",
      "\u001b[1;32mc:\\Users\\19723\\Dropbox\\chenoi\\AndyAI\\AI\\RF\\test.ipynb Cell 6'\u001b[0m in \u001b[0;36m<cell line: 8>\u001b[1;34m()\u001b[0m\n\u001b[0;32m      <a href='vscode-notebook-cell:/c%3A/Users/19723/Dropbox/chenoi/AndyAI/AI/RF/test.ipynb#ch0000058?line=5'>6</a>\u001b[0m \u001b[39mprint\u001b[39m(\u001b[39m\"\u001b[39m\u001b[39m*\u001b[39m\u001b[39m\"\u001b[39m)\n\u001b[0;32m      <a href='vscode-notebook-cell:/c%3A/Users/19723/Dropbox/chenoi/AndyAI/AI/RF/test.ipynb#ch0000058?line=6'>7</a>\u001b[0m \u001b[39mprint\u001b[39m(b)\n\u001b[1;32m----> <a href='vscode-notebook-cell:/c%3A/Users/19723/Dropbox/chenoi/AndyAI/AI/RF/test.ipynb#ch0000058?line=7'>8</a>\u001b[0m result \u001b[39m=\u001b[39m \u001b[39mint\u001b[39;49m(\u001b[39minput\u001b[39;49m(\u001b[39m\"\u001b[39;49m\u001b[39mis ?\u001b[39;49m\u001b[39m\"\u001b[39;49m))\n\u001b[0;32m      <a href='vscode-notebook-cell:/c%3A/Users/19723/Dropbox/chenoi/AndyAI/AI/RF/test.ipynb#ch0000058?line=8'>9</a>\u001b[0m \u001b[39mprint\u001b[39m(result\u001b[39m==\u001b[39ma\u001b[39m*\u001b[39mb)\n",
      "\u001b[1;31mValueError\u001b[0m: invalid literal for int() with base 10: ''"
     ]
    }
   ],
   "source": [
    "import random \n",
    "\n",
    "a = random.randrange(11, 99)\n",
    "b = random.randrange(11, 99)\n",
    "print(a)\n",
    "print(\"*\")\n",
    "print(b)\n",
    "result = int(input(\"is ?\"))\n",
    "print(result==a*b)"
   ]
  },
  {
   "cell_type": "code",
   "execution_count": 3,
   "metadata": {
    "id": "BNTVpXp5Pe0v",
    "tags": [
     "margin"
    ]
   },
   "outputs": [],
   "source": [
    "# Class of the problem\n",
    "\n",
    "class Problem():\n",
    "  initial_state = None\n",
    "  state_space = None\n",
    "  goal_states = None\n",
    "  actions = None\n",
    "  transition_function = None\n",
    "  costs = None\n",
    "\n",
    "  def __init__(self, initial_state, state_space, goal_states, actions, transition_function, costs):\n",
    "    self.initial_state = initial_state\n",
    "    self.state_space = state_space\n",
    "    self.goal_states = goal_states\n",
    "    self.actions = actions\n",
    "    self.transition_function = transition_function\n",
    "    self.costs = costs\n",
    "\n",
    "    self.current_state = self.initial_state\n",
    "    \n",
    "    return \n",
    "  \n",
    "# Helper function to visualize the problem (i.e. draw state transition graph) \n",
    "def generate_state_graph(problem):\n",
    "  state_graph={}\n",
    "  state_graph['nodes'] = {k:{'label':'\\\"{}\\n{}\\\"'.format(k,' ')} for k in sorted(list(problem.state_space))}\n",
    "  state_graph['nodes'][problem.initial_state]['color'] = 'green'\n",
    "  for goal in problem.goal_states:\n",
    "      state_graph['nodes'][goal]['shape'] = 'doublecircle'\n",
    "  state_graph['edge'] = {k:{'label':str(problem.costs[k])} for k in problem.costs.keys()}\n",
    "  return state_graph\n",
    "\n",
    "def render_graph(param):\n",
    "  s = ''\n",
    "  s += 'digraph G { \\n'\n",
    "\n",
    "  for node,tdict in param['nodes'].items():\n",
    "    tstr = node + ' '\n",
    "    if bool(tdict):\n",
    "      tstr += '['\n",
    "      for k,v in tdict.items():\n",
    "        tstr += '{}={},'.format(k,v)\n",
    "      tstr = tstr[:-1] + ']'\n",
    "    tstr += ';\\n'\n",
    "    s+=tstr\n",
    "  \n",
    "  for edge,tdict in param['edge'].items():\n",
    "    tstr = edge[0] + '->' + edge[1] + ' '\n",
    "    if bool(tdict):\n",
    "      tstr += '['\n",
    "      for k,v in tdict.items():\n",
    "        tstr += '{}={},'.format(k,v)\n",
    "      tstr = tstr[:-1] + ']'\n",
    "    tstr += ';\\n'\n",
    "    s+=tstr\n",
    "  s += ' \\n}'\n",
    "\n",
    "  #print (s)\n",
    "  graph = pydotplus.graph_from_dot_data(s)\n",
    "  return graph.create_png()\n",
    "\n",
    "\n",
    "# Visulize the search process (not required)\n",
    "def visulize_search_process(nodes,problem):\n",
    "    progress = []\n",
    "\n",
    "    for i,(state,value,parent) in enumerate(nodes):\n",
    "        param = {}\n",
    "        param['nodes'] = {str(k):{'label':'\\\"n{}\\n{},{},{}\\\"'.format(k,state,cost,parent)} for k,(state,cost,parent) in enumerate(nodes[:i+1])}\n",
    "        \n",
    "        # The newly generated node is red while all other nodes are green \n",
    "        for k in param['nodes']:\n",
    "            param['nodes'][k]['color'] = 'green'\n",
    "        param['nodes'][str(i)]['color'] = 'red'\n",
    "\n",
    "        # Black edges\n",
    "        param['edge'] = {(str(parent), str(k)): {'label': str(problem.costs[(nodes[parent][0], state)])} for k, (state, cost, parent) in enumerate(nodes[:i+1]) if not parent is None}\n",
    "        for edge in param['edge']:\n",
    "            param['edge'][edge]['color'] = 'black'\n",
    "\n",
    "        progress.append(param)\n",
    "\n",
    "    prog_imgs = [render_graph(param) for param in progress]\n",
    "    def show_img(idx):\n",
    "        return display(Image(prog_imgs[idx]))\n",
    "    interact(show_img,idx=(0,len(prog_imgs)-1,1))\n",
    "\n",
    "\n",
    "    \n"
   ]
  },
  {
   "cell_type": "markdown",
   "metadata": {
    "id": "U8f4i2S328SJ"
   },
   "source": [
    "\n",
    "\n",
    "---\n",
    "\n",
    "\n",
    " Example:\n"
   ]
  },
  {
   "cell_type": "markdown",
   "metadata": {
    "id": "3Lus_uhCByRd",
    "tags": [
     "{",
     "\"tags\":",
     "[",
     "\"margin\"",
     "]",
     "}"
    ]
   },
   "source": [
    "# State transition graph:\n",
    "\n",
    "![image.png](data:image/png;base64,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)\n"
   ]
  },
  {
   "cell_type": "markdown",
   "metadata": {
    "id": "CqyZC6ql7Njk"
   },
   "source": [
    "# Code to auto generate state space model (you don't have to use it)"
   ]
  },
  {
   "cell_type": "code",
   "execution_count": 4,
   "metadata": {
    "colab": {
     "base_uri": "https://localhost:8080/"
    },
    "id": "45Gjrc3u6dU_",
    "outputId": "7ebade85-b5f3-48e3-fc79-f77ad94e56f4"
   },
   "outputs": [
    {
     "name": "stdout",
     "output_type": "stream",
     "text": [
      "initial_state=s1\n",
      "state_space={'s1', 's5', 's4', 's6', 's7', 's2', 's3'}\n",
      "goal_states={'s7'}\n",
      "actions={'s1': {('s1', 's4'), ('s1', 's2'), ('s1', 's3')}, 's2': {('s2', 's5')}, 's3': {('s3', 's7')}, 's4': {('s4', 's6')}, 's5': {('s5', 's7')}, 's6': {('s6', 's7')}, 's7': set()}\n",
      "transition_function={('s1', ('s1', 's2')): 's2', ('s1', ('s1', 's3')): 's3', ('s1', ('s1', 's4')): 's4', ('s2', ('s2', 's5')): 's5', ('s3', ('s3', 's7')): 's7', ('s4', ('s4', 's6')): 's6', ('s5', ('s5', 's7')): 's7', ('s6', ('s6', 's7')): 's7'}\n",
      "costs={('s1', 's2'): 2, ('s1', 's3'): 2, ('s1', 's4'): 1, ('s2', 's5'): 2, ('s3', 's7'): 10, ('s4', 's6'): 1, ('s5', 's7'): 3, ('s6', 's7'): 4}\n"
     ]
    }
   ],
   "source": [
    "# Code to auto-generate state space model\n",
    "\n",
    "states = set(['s{}'.format(i) for i in range(1,8)])\n",
    "ini_st = 's1'\n",
    "goal_sts = set(['s7'])\n",
    "\n",
    "costs = {\n",
    "    ('s1','s2'):2,\n",
    "    ('s1','s3'):2,\n",
    "    ('s1','s4'):1,\n",
    "    ('s2','s5'):2,\n",
    "    ('s3','s7'):10,\n",
    "    ('s4','s6'):1,\n",
    "    ('s5','s7'):3,\n",
    "    ('s6','s7'):4,\n",
    "}\n",
    "\n",
    "\n",
    "actions = {'s{}'.format(i): set() for i in range(1,8)}\n",
    "for k1,k2 in costs.keys():\n",
    "  actions[k1].add((k1,k2))\n",
    "\n",
    "tranf = {(k[0],k):k[1] for k in costs.keys()}\n",
    "\n",
    "prob = Problem(initial_state=ini_st, state_space=states, goal_states=goal_sts, actions=actions, transition_function=tranf, costs=costs)\n",
    "\n",
    "print ('initial_state={}'.format(prob.initial_state))\n",
    "print ('state_space={}'.format(prob.state_space))\n",
    "print ('goal_states={}'.format(prob.goal_states))\n",
    "print ('actions={}'.format(prob.actions))\n",
    "print ('transition_function={}'.format(prob.transition_function))\n",
    "print ('costs={}'.format(prob.costs))\n"
   ]
  },
  {
   "cell_type": "markdown",
   "metadata": {
    "id": "prqvYVNs7Z8g"
   },
   "source": [
    "# Code to define the problem (i.e. state space model)"
   ]
  },
  {
   "cell_type": "code",
   "execution_count": 5,
   "metadata": {
    "id": "EA7bnF0C51QK"
   },
   "outputs": [],
   "source": [
    "initial_state = 's1'\n",
    "state_space = {'s3', 's5', 's1', 's2', 's4', 's7', 's6'}\n",
    "goal_states = {'s7'}\n",
    "actions = {'s1': {('s1', 's3'), ('s1', 's2'), ('s1', 's4')}, 's2': {('s2', 's5')}, 's3': {('s3', 's7')}, 's4': {('s4', 's6')}, 's5': {('s5', 's7')}, 's6': {('s6', 's7')}, 's7': set()}\n",
    "transition_function = {('s1', ('s1', 's2')): 's2', ('s1', ('s1', 's3')): 's3', ('s1', ('s1', 's4')): 's4', ('s2', ('s2', 's5')): 's5', ('s3', ('s3', 's7')): 's7', ('s4', ('s4', 's6')): 's6', ('s5', ('s5', 's7')): 's7', ('s6', ('s6', 's7')): 's7'}\n",
    "costs = {('s1', 's2'): 2, ('s1', 's3'): 2, ('s1', 's4'): 1, ('s2', 's5'): 2, ('s3', 's7'): 10, ('s4', 's6'): 1, ('s5', 's7'): 3, ('s6', 's7'): 4}\n",
    "\n",
    "problem = Problem(initial_state, state_space, goal_states, actions, transition_function, costs)"
   ]
  },
  {
   "cell_type": "markdown",
   "metadata": {
    "id": "HGjgFMwg7qr-"
   },
   "source": [
    "# Generate the state transition graph for the problem:"
   ]
  },
  {
   "cell_type": "code",
   "execution_count": 6,
   "metadata": {
    "colab": {
     "base_uri": "https://localhost:8080/",
     "height": 581
    },
    "id": "_5uctAO-9Vwe",
    "outputId": "0ae30dc9-5bae-4223-9f10-ffb8837af280"
   },
   "outputs": [
    {
     "data": {
      "image/png": "[encoded data removed]",
      "text/plain": [
       "<IPython.core.display.Image object>"
      ]
     },
     "metadata": {},
     "output_type": "display_data"
    }
   ],
   "source": [
    "display(Image(render_graph(generate_state_graph(problem))))"
   ]
  },
  {
   "cell_type": "markdown",
   "metadata": {
    "id": "UC43XOxPC1AW"
   },
   "source": [
    "---\n",
    "\n",
    "\n",
    " Problem 1:"
   ]
  },
  {
   "cell_type": "markdown",
   "metadata": {
    "id": "JnZqmp3q1kWy"
   },
   "source": [
    "\n",
    "Following the above example, define the state-space model of the graph:\n",
    "\n",
    "![image.png](data:image/png;base64,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)"
   ]
  },
  {
   "cell_type": "markdown",
   "metadata": {
    "id": "7nzYjY0-A7M8"
   },
   "source": [
    "# Task 1: please complete the following code:"
   ]
  },
  {
   "cell_type": "code",
   "execution_count": 7,
   "metadata": {
    "id": "6DLhMhd_75OM"
   },
   "outputs": [],
   "source": [
    "initial_state='s1'\n",
    "state_space={'s1', 's2', 's4', 's3'}\n",
    "goal_states={'s4'}\n",
    "actions={'s1': {('s1', 's3'), ('s1', 's2')}, 's2': {('s2', 's3')}, 's3': {('s3', 's4'), ('s3', 's1')}, 's4': set(), 's5': set(), 's6': set(), 's7': set()}\n",
    "transition_function={('s1', ('s1', 's3')): 's3', ('s1', ('s1', 's2')): 's2', ('s2', ('s2', 's3')): 's3', ('s3', ('s3', 's1')): 's1', ('s3', ('s3', 's4')): 's4'}\n",
    "costs={('s1', 's3'): 2, ('s1', 's2'): 1, ('s2', 's3'): 4, ('s3', 's1'): 3, ('s3', 's4'): 5}\n",
    "\n",
    "\n",
    "problem1 = Problem(initial_state, state_space, goal_states, actions, transition_function, costs)"
   ]
  },
  {
   "cell_type": "markdown",
   "metadata": {
    "id": "3GjvxMrlBMYi"
   },
   "source": [
    "# Task 2: try to visulize the state transition graph of your model:"
   ]
  },
  {
   "cell_type": "code",
   "execution_count": 8,
   "metadata": {
    "colab": {
     "base_uri": "https://localhost:8080/",
     "height": 529
    },
    "id": "1fYOilnZ5DU8",
    "outputId": "2bc6f500-44fc-4cb8-a653-11ad0159f2aa"
   },
   "outputs": [
    {
     "data": {
      "image/png": "[encoded data removed]",
      "text/plain": [
       "<IPython.core.display.Image object>"
      ]
     },
     "metadata": {},
     "output_type": "display_data"
    }
   ],
   "source": [
    "display(Image(render_graph(generate_state_graph(problem1))))"
   ]
  },
  {
   "cell_type": "markdown",
   "metadata": {
    "id": "S8b0115NCVL2"
   },
   "source": [
    " Problem 2"
   ]
  },
  {
   "cell_type": "markdown",
   "metadata": {
    "id": "aZpGj7U_D2U_"
   },
   "source": [
    "Run three common blind search algorithms (i.e. BrFS, DFS and ID) on the given state space model from the Example. What's the difference between the **state transition graph** and the **search tree** generated during the search process？\n",
    "\n"
   ]
  },
  {
   "cell_type": "markdown",
   "metadata": {
    "id": "0Po-5Dxr5ZKw"
   },
   "source": [
    "![image.png](data:image/png;base64,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)\n"
   ]
  },
  {
   "cell_type": "markdown",
   "metadata": {
    "id": "zn5r843A_YUp"
   },
   "source": [
    "# Task 1:\n",
    "Discuss with others, and finish the node expansion order for each algorithm:"
   ]
  },
  {
   "cell_type": "markdown",
   "metadata": {
    "id": "7gYsvDzSEhE9"
   },
   "source": [
    "## BrFS(Breadth First Search):\n"
   ]
  },
  {
   "cell_type": "code",
   "execution_count": 9,
   "metadata": {
    "id": "AAqIDWnqzDYU"
   },
   "outputs": [],
   "source": [
    "#  Expansion node order\n",
    "nodes = [ # (state, accumulated cost, id of parent node)\n",
    "      ('s1',0,None),\n",
    "      ('s2',2,0),\n",
    "      ('s3',2,0),\n",
    "      ('s4',1,0),\n",
    "      ('s5',4,1),\n",
    "      ('s7',12,2)\n",
    "]"
   ]
  },
  {
   "cell_type": "code",
   "execution_count": 10,
   "metadata": {
    "colab": {
     "base_uri": "https://localhost:8080/",
     "height": 550,
     "referenced_widgets": [
      "6f876b7762d94057b290df68e3256688",
      "c049b00c7a9f43dbb9937785b8107aba",
      "6bf9b906328b4d2190f1f3cb31901cab",
      "20737fe5e9ff477e928940afc860834a",
      "9ca2c39724dd45c49af408bf29b774c1",
      "8fb0b5def92d4733b02aef0ec833bbd4",
      "6648b41ca13141be935d6de518cf8b0e"
     ]
    },
    "id": "u9KavEDipYb8",
    "outputId": "3bc6ef45-76c6-4d7d-97bd-e6f81b05b59a"
   },
   "outputs": [
    {
     "data": {
      "application/vnd.jupyter.widget-view+json": {
       "model_id": "f04ec8c1a8004c71a052353876e7c78a",
       "version_major": 2,
       "version_minor": 0
      },
      "text/plain": [
       "interactive(children=(IntSlider(value=2, description='idx', max=5), Output()), _dom_classes=('widget-interact'…"
      ]
     },
     "metadata": {},
     "output_type": "display_data"
    }
   ],
   "source": [
    "visulize_search_process(nodes,problem)"
   ]
  },
  {
   "cell_type": "markdown",
   "metadata": {
    "id": "0PgvEwPbETZk"
   },
   "source": [
    "## DFS(Depth First Search):"
   ]
  },
  {
   "cell_type": "code",
   "execution_count": null,
   "metadata": {
    "id": "6VLLnA_lEZoq"
   },
   "outputs": [],
   "source": [
    "#  Expansion node order\n",
    "nodes = [ # (state, accumulated cost, id of parent node)\n",
    "      ('s1',0,None),\n",
    "      ('s2',2,0),\n",
    "      ('s5',4,1),\n",
    "      ('s7',7,2)\n",
    "]"
   ]
  },
  {
   "cell_type": "code",
   "execution_count": null,
   "metadata": {
    "colab": {
     "base_uri": "https://localhost:8080/",
     "height": 271,
     "referenced_widgets": [
      "651550f368c044aaa8633d07e4ba27fa",
      "f144001a0ab0417eb1882cedc3e2d9a1",
      "765495de73b94949ad56c96241181de2",
      "797fb5a902704fae88ad8ff0bbab6d0b",
      "5da84f76b9dd49e1a79dd598a1d39c98",
      "f76594c8793c49b9a761fd7631cbfd6d",
      "f692eb723d684a06b5b5330ebcdc8371"
     ]
    },
    "id": "bzWl8GXuE1Eu",
    "outputId": "38a94bd8-e537-4250-adb7-eafdd6a20a31"
   },
   "outputs": [
    {
     "data": {
      "application/vnd.jupyter.widget-view+json": {
       "model_id": "651550f368c044aaa8633d07e4ba27fa",
       "version_major": 2,
       "version_minor": 0
      },
      "text/plain": [
       "interactive(children=(IntSlider(value=1, description='idx', max=3), Output()), _dom_classes=('widget-interact'…"
      ]
     },
     "metadata": {
      "tags": []
     },
     "output_type": "display_data"
    }
   ],
   "source": [
    "visulize_search_process(nodes,problem)"
   ]
  },
  {
   "cell_type": "markdown",
   "metadata": {
    "id": "eZD8T2h1GP8k"
   },
   "source": [
    "## ID(Iterative Deepening):"
   ]
  },
  {
   "cell_type": "code",
   "execution_count": null,
   "metadata": {
    "id": "MjBqaoOUHDAC"
   },
   "outputs": [],
   "source": [
    "#  Expansion node order\n",
    "nodes = [ # (state, accumulated cost, id of parent node)\n",
    "      ('s1',0,None),\n",
    "      ('s1',0,None),\n",
    "      ('s2',2,1),\n",
    "      ('s3',2,1),\n",
    "      ('s4',1,1),\n",
    "      ('s1',0,None),\n",
    "      ('s2',2,5),\n",
    "      ('s5',4,6),\n",
    "      ('s3',2,5),\n",
    "      ('s7',12,8)\n",
    "]"
   ]
  },
  {
   "cell_type": "code",
   "execution_count": null,
   "metadata": {
    "colab": {
     "base_uri": "https://localhost:8080/",
     "height": 271,
     "referenced_widgets": [
      "ba12b7dcc2524426b3424257d81272f9",
      "3eec7dffd22a412285ad2f19d0d74efd",
      "f15281dc2b1444398dff5d81fd5a30a3",
      "091d510224174823aa33bbf68e1025d4",
      "274d204206ba4cee9d089df6cd47c79b",
      "634eedf20b044448919c84a943ad469e",
      "82559f7396bf4e659866c5a44588a151"
     ]
    },
    "id": "rSFd-6PZH797",
    "outputId": "bddf3eab-0abc-422c-d6a1-da5705cd0d6e"
   },
   "outputs": [
    {
     "data": {
      "application/vnd.jupyter.widget-view+json": {
       "model_id": "ba12b7dcc2524426b3424257d81272f9",
       "version_major": 2,
       "version_minor": 0
      },
      "text/plain": [
       "interactive(children=(IntSlider(value=4, description='idx', max=9), Output()), _dom_classes=('widget-interact'…"
      ]
     },
     "metadata": {
      "tags": []
     },
     "output_type": "display_data"
    }
   ],
   "source": [
    "visulize_search_process(nodes,problem)"
   ]
  },
  {
   "cell_type": "markdown",
   "metadata": {
    "id": "UmnUGVCfALwp"
   },
   "source": [
    "# Task 2:"
   ]
  },
  {
   "cell_type": "markdown",
   "metadata": {
    "id": "RXEm1nzzA0CN"
   },
   "source": [
    "## Q1: What is the solution found by each algorithm?"
   ]
  },
  {
   "cell_type": "markdown",
   "metadata": {
    "id": "uDqx6QLEA7_E"
   },
   "source": [
    " \n",
    "\n",
    "*   BrFS: s1 -> s3 -> s7\n",
    "*   DFS: s1 -> s2 -> s5 -> s7 (depends on the tie-break rules)\n",
    "*   ID: s1 -> s3 -> s7\n",
    "\n",
    "\n"
   ]
  },
  {
   "cell_type": "markdown",
   "metadata": {
    "id": "E7KfupOJA8pf"
   },
   "source": [
    "## Q2: What is the actual optimal solution?"
   ]
  },
  {
   "cell_type": "markdown",
   "metadata": {
    "id": "nFAP2Cs5BfzL"
   },
   "source": [
    "*    s1 -> s4 -> s6 -> s7"
   ]
  },
  {
   "cell_type": "markdown",
   "metadata": {
    "id": "vXEd4LMhBgWq"
   },
   "source": [
    "## Q3: Explain under which conditions the algorithms guarantee optimality?"
   ]
  },
  {
   "cell_type": "markdown",
   "metadata": {
    "id": "edH4piKXBuXq"
   },
   "source": [
    "*    BrFS and ID will be optimal if the costs are uniform, such as, all cost are 1"
   ]
  },
  {
   "cell_type": "markdown",
   "metadata": {
    "id": "y0Av9c4xBy6c"
   },
   "source": [
    "## Q4: Can any of the previous algorithms be adapted to account for $g(n)$ in order to make it optimal?"
   ]
  },
  {
   "cell_type": "markdown",
   "metadata": {
    "id": "8MJ_rU_oF252"
   },
   "source": [
    "*    Dijkstra, also known as Uniform search.  Like BrFS but expanding the node with lowest accumulated cost, instead of the lowest depth."
   ]
  },
  {
   "cell_type": "markdown",
   "metadata": {
    "id": "m4KDVuIyPu19"
   },
   "source": [
    " Problem 3:\n"
   ]
  },
  {
   "cell_type": "markdown",
   "metadata": {
    "id": "BVvOhutAP1g1"
   },
   "source": [
    "Describe a simple example of *Travelling Salesman Problem* along with its corresponding **State Space Model**. \n",
    "\n",
    "\n",
    "\n",
    "Definition should be brief, clear, and\n",
    "*compact* (*compact* means using mathematical notation to\n",
    "  define sets, i.e. $S = \\{ x | x \\in V \\}$ to define that there are\n",
    "  as many states as elements in the set $V$, and pseudo-code, i.e. to\n",
    "  define the transition function.)\n",
    "\n",
    "1. State space $S$\n",
    "2. Initial state $s_0 \\in S$\n",
    "3. Set of goal states  $S_G \\subseteq S$\n",
    "4. Applicable actions function $A(s)$ for each state $s \\in S$\n",
    "5. Transition function $f(s,a)$ for $s \\in S$ and $a \\in A(s)$\n",
    "6. Cost of each action $c(a)$ for $a \\in A(s)$"
   ]
  },
  {
   "cell_type": "markdown",
   "metadata": {
    "id": "6rj-WB1ITLIL"
   },
   "source": [
    "**Hint**: Consider a set of cities $V$ to visit in any order, a starting city location $v_{start}$, and a set of edges $E$ specifying if there's an edge from two cities $\\langle v_1, v_2 \\rangle$.\n",
    "Let $V'$ be the set of cities has been visited.\n",
    "\n"
   ]
  },
  {
   "cell_type": "markdown",
   "metadata": {
    "id": "JsXi7KgMJ76k"
   },
   "source": [
    "Let $V'$ be the set contain visited cities:\n",
    "\n",
    "*   $S = \\{ \\langle v_{current}, V' \\rangle | \\, v_{current} \\in V \\land V' \\subseteq V \\}$\n",
    "\n",
    "*   $ s_0 = \\langle v_{start}, \\{v_{start}\\} \\rangle $\n",
    "\n",
    "*   $ S_G = \\{ \\langle v_{current}, V \\rangle | v_{current} \\in V \\} $\n",
    "\n",
    "*   $ A(\\langle v_{current}, V' \\rangle) = \\{ \\langle v_{current} , v_{next} \\rangle | \\, \\langle v_{current}, v_{next} \\rangle \\in E\\} $\n",
    "\n",
    "*    $f(\\langle v_{current}, V'\\rangle, \\langle v_{current}, v_{next} \\rangle)= \\langle v_{next} , V' \\cup \\{v_{next}\\} \\rangle $\n",
    "\n",
    "*    $c(\\langle v_{current} , v_{next} \\rangle) = cost(\\langle v_{current} , v_{next} \\rangle) $\n",
    "\n"
   ]
  },
  {
   "cell_type": "markdown",
   "metadata": {
    "id": "LSrmYAFEUWkx"
   },
   "source": [
    " Challenge Problem 1:"
   ]
  },
  {
   "cell_type": "markdown",
   "metadata": {
    "id": "ZSwCuPTM9SPs"
   },
   "source": [
    "Review problem 2, instead of manual input the node expansion order, now you can try to implement those blind search algorithm on your own."
   ]
  },
  {
   "cell_type": "markdown",
   "metadata": {
    "id": "TCoZgSda9KB3"
   },
   "source": [
    "# State transition graph:\n",
    "\n",
    "![image.png](data:image/png;base64,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)\n"
   ]
  },
  {
   "cell_type": "markdown",
   "metadata": {
    "id": "oCGzbSGEUpTP"
   },
   "source": [
    "# Algorithm Implementation: BFS"
   ]
  },
  {
   "cell_type": "code",
   "execution_count": 11,
   "metadata": {
    "id": "_pEe5X3sVJAH"
   },
   "outputs": [],
   "source": [
    "# Instead of return the final solution, your function here should append the node when it gets expanded, and return the expanded list\n",
    "def BFS(problem):\n",
    "    expansion_order = []\n",
    "    # Your code here:\n",
    "    start_node = (problem.initial_state, 0, None)\n",
    "    queue = [start_node]\n",
    "\n",
    "    while queue:\n",
    "        current_node = queue.pop(0)\n",
    "        expansion_order.append(current_node)\n",
    "        state, accu_cost, parent_node_id = current_node\n",
    "\n",
    "        # Goal Check\n",
    "        if state in problem.goal_states:\n",
    "            return expansion_order\n",
    "\n",
    "        # Add successor nodes into queue (no loop check; randomly tie-break)\n",
    "        for action in problem.actions[state]:\n",
    "            succ_state = problem.transition_function[(state, action)]\n",
    "            cost = accu_cost + problem.costs[action]\n",
    "            queue.append((succ_state, cost, len(expansion_order)-1))\n",
    "\n",
    "    return expansion_order"
   ]
  },
  {
   "cell_type": "code",
   "execution_count": 12,
   "metadata": {
    "colab": {
     "base_uri": "https://localhost:8080/",
     "height": 271,
     "referenced_widgets": [
      "e66e36d64fca4243bcb1b31015cd0024",
      "e35b798a82c04266888d624d56a7336d",
      "c400111f6acf43fe954a07dd0d32c556",
      "66085cc53d1b4880a5b4c71f16506fdb",
      "79e902ad6ad04eb69af5595f62c3b37d",
      "b03fd54232bd410f97a437b806e9878b",
      "85a9053f99174377bd3709648fc8cd1a"
     ]
    },
    "id": "WZRlact4ZWsy",
    "outputId": "f6c83189-08d9-4f6e-d6cc-468bc60c1cf5"
   },
   "outputs": [
    {
     "data": {
      "application/vnd.jupyter.widget-view+json": {
       "model_id": "e79f4eba2dcb417b8d82961f74a98661",
       "version_major": 2,
       "version_minor": 0
      },
      "text/plain": [
       "interactive(children=(IntSlider(value=2, description='idx', max=5), Output()), _dom_classes=('widget-interact'…"
      ]
     },
     "metadata": {},
     "output_type": "display_data"
    }
   ],
   "source": [
    "visulize_search_process(BFS(problem),problem)"
   ]
  },
  {
   "cell_type": "markdown",
   "metadata": {
    "id": "iUgj54NpaCzE"
   },
   "source": [
    "# Algorithm Implementation: DFS"
   ]
  },
  {
   "cell_type": "code",
   "execution_count": null,
   "metadata": {
    "id": "6BALYV0faGdE"
   },
   "outputs": [],
   "source": [
    "# Instead of return the final solution, your function here should append the node when it gets expanded, and return the expanded list\n",
    "def DFS(problem):\n",
    "    expansion_order = []\n",
    "    # Your code here:\n",
    "\n",
    "    start_node = (problem.initial_state, 0, None)\n",
    "    stack = [start_node]\n",
    "    while stack:\n",
    "        current_node = stack.pop()\n",
    "        expansion_order.append(current_node)\n",
    "        state, accu_cost, parent_node_id = current_node\n",
    "\n",
    "        # Goal Check\n",
    "        if state in problem.goal_states:\n",
    "            return expansion_order\n",
    "\n",
    "        # Add successor nodes into stack (no loop check; randomly tie-break)\n",
    "        for action in problem.actions[state]:\n",
    "            succ_state = problem.transition_function[(state, action)]\n",
    "            cost = accu_cost + problem.costs[action]\n",
    "            stack.append((succ_state, cost, len(expansion_order)-1))\n",
    "            \n",
    "    return expansion_order"
   ]
  },
  {
   "cell_type": "code",
   "execution_count": null,
   "metadata": {
    "colab": {
     "base_uri": "https://localhost:8080/",
     "height": 271,
     "referenced_widgets": [
      "3b91822a74384ea890785230c3c29537",
      "00087c7897e848c9beec726a41ee6b9a",
      "0e9d2de7ee7c405ea81500311eef1760",
      "909969f3cbe443b0a08782a48d3e74ef",
      "da585ffd45084aeaacf87484a1a935a7",
      "c52fcde1cee94b5591d579e6881e7ba1",
      "93eee39a3b7b4105bf2815935a983aaf"
     ]
    },
    "id": "seilI7S5aTUM",
    "outputId": "1ff30535-6327-4a80-a64f-936bf3ffa23c"
   },
   "outputs": [
    {
     "data": {
      "application/vnd.jupyter.widget-view+json": {
       "model_id": "3b91822a74384ea890785230c3c29537",
       "version_major": 2,
       "version_minor": 0
      },
      "text/plain": [
       "interactive(children=(IntSlider(value=1, description='idx', max=3), Output()), _dom_classes=('widget-interact'…"
      ]
     },
     "metadata": {
      "tags": []
     },
     "output_type": "display_data"
    }
   ],
   "source": [
    "visulize_search_process(DFS(problem),problem)"
   ]
  },
  {
   "cell_type": "markdown",
   "metadata": {
    "id": "JTBmIPngGGi5"
   },
   "source": [
    "# Algorithm Implementation: ID"
   ]
  },
  {
   "cell_type": "code",
   "execution_count": null,
   "metadata": {
    "id": "7y7ee7IHGGi-"
   },
   "outputs": [],
   "source": [
    "# Instead of return the final solution, your function here should append the node when it gets expanded, and return the expanded list\n",
    "def ID(problem):\n",
    "    expansion_order = []\n",
    "    # Your code here:\n",
    "    max_depth = 0\n",
    "    while True:\n",
    "        start_node = ((problem.initial_state, 0, None), 0)\n",
    "        stack = [start_node]\n",
    "        while stack:\n",
    "            current_node, depth = stack.pop()\n",
    "            expansion_order.append(current_node)\n",
    "            state, accu_cost, parent_node_id = current_node\n",
    "\n",
    "            if state in problem.goal_states:\n",
    "                return expansion_order\n",
    "\n",
    "            if depth < max_depth:\n",
    "                for action in problem.actions[state]:\n",
    "                    succ_state = problem.transition_function[(state, action)]\n",
    "                    cost = accu_cost + problem.costs[action]\n",
    "                    stack.append(((succ_state, cost, len(expansion_order)-1), depth + 1))\n",
    "\n",
    "        max_depth += 1\n",
    "        \n",
    "    return expansion_order"
   ]
  },
  {
   "cell_type": "code",
   "execution_count": null,
   "metadata": {
    "id": "sRublBFlGGjD"
   },
   "outputs": [],
   "source": [
    "visulize_search_process(ID(problem),problem)"
   ]
  }
 ],
 "metadata": {
  "celltoolbar": "Edit Metadata",
  "colab": {
   "collapsed_sections": [
    "m4KDVuIyPu19"
   ],
   "include_colab_link": true,
   "name": "solution_set_01.ipynb",
   "provenance": [],
   "toc_visible": true
  },
  "interpreter": {
   "hash": "e0871a911c0bfa5eb8193266de54d0e9eefcb45ee3e025eb5efaa5ff310592d8"
  },
  "kernelspec": {
   "display_name": "Python 3 (ipykernel)",
   "language": "python",
   "name": "python3"
  },
  "language_info": {
   "codemirror_mode": {
    "name": "ipython",
    "version": 3
   },
   "file_extension": ".py",
   "mimetype": "text/x-python",
   "name": "python",
   "nbconvert_exporter": "python",
   "pygments_lexer": "ipython3",
   "version": "3.8.3"
  },
  "toc": {
   "base_numbering": 1,
   "nav_menu": {},
   "number_sections": true,
   "sideBar": true,
   "skip_h1_title": false,
   "title_cell": "Table of Contents",
   "title_sidebar": "Contents",
   "toc_cell": false,
   "toc_position": {},
   "toc_section_display": true,
   "toc_window_display": false
  },
  "widgets": {
   "application/vnd.jupyter.widget-state+json": {
    "00087c7897e848c9beec726a41ee6b9a": {
     "model_module": "@jupyter-widgets/base",
     "model_module_version": "1.2.0",
     "model_name": "LayoutModel",
     "state": {
      "_model_module": "@jupyter-widgets/base",
      "_model_module_version": "1.2.0",
      "_model_name": "LayoutModel",
      "_view_count": null,
      "_view_module": "@jupyter-widgets/base",
      "_view_module_version": "1.2.0",
      "_view_name": "LayoutView",
      "align_content": null,
      "align_items": null,
      "align_self": null,
      "border": null,
      "bottom": null,
      "display": null,
      "flex": null,
      "flex_flow": null,
      "grid_area": null,
      "grid_auto_columns": null,
      "grid_auto_flow": null,
      "grid_auto_rows": null,
      "grid_column": null,
      "grid_gap": null,
      "grid_row": null,
      "grid_template_areas": null,
      "grid_template_columns": null,
      "grid_template_rows": null,
      "height": null,
      "justify_content": null,
      "justify_items": null,
      "left": null,
      "margin": null,
      "max_height": null,
      "max_width": null,
      "min_height": null,
      "min_width": null,
      "object_fit": null,
      "object_position": null,
      "order": null,
      "overflow": null,
      "overflow_x": null,
      "overflow_y": null,
      "padding": null,
      "right": null,
      "top": null,
      "visibility": null,
      "width": null
     }
    },
    "091d510224174823aa33bbf68e1025d4": {
     "model_module": "@jupyter-widgets/output",
     "model_module_version": "1.0.0",
     "model_name": "OutputModel",
     "state": {
      "_dom_classes": [],
      "_model_module": "@jupyter-widgets/output",
      "_model_module_version": "1.0.0",
      "_model_name": "OutputModel",
      "_view_count": null,
      "_view_module": "@jupyter-widgets/output",
      "_view_module_version": "1.0.0",
      "_view_name": "OutputView",
      "layout": "IPY_MODEL_82559f7396bf4e659866c5a44588a151",
      "msg_id": "",
      "outputs": [
       {
        "image/png": "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\n",
        "metadata": {
         "tags": []
        },
        "output_type": "display_data",
        "text/plain": "<IPython.core.display.Image object>"
       }
      ]
     }
    },
    "0e9d2de7ee7c405ea81500311eef1760": {
     "model_module": "@jupyter-widgets/controls",
     "model_module_version": "1.5.0",
     "model_name": "IntSliderModel",
     "state": {
      "_dom_classes": [],
      "_model_module": "@jupyter-widgets/controls",
      "_model_module_version": "1.5.0",
      "_model_name": "IntSliderModel",
      "_view_count": null,
      "_view_module": "@jupyter-widgets/controls",
      "_view_module_version": "1.5.0",
      "_view_name": "IntSliderView",
      "continuous_update": true,
      "description": "idx",
      "description_tooltip": null,
      "disabled": false,
      "layout": "IPY_MODEL_c52fcde1cee94b5591d579e6881e7ba1",
      "max": 3,
      "min": 0,
      "orientation": "horizontal",
      "readout": true,
      "readout_format": "d",
      "step": 1,
      "style": "IPY_MODEL_da585ffd45084aeaacf87484a1a935a7",
      "value": 1
     }
    },
    "20737fe5e9ff477e928940afc860834a": {
     "model_module": "@jupyter-widgets/output",
     "model_module_version": "1.0.0",
     "model_name": "OutputModel",
     "state": {
      "_dom_classes": [],
      "_model_module": "@jupyter-widgets/output",
      "_model_module_version": "1.0.0",
      "_model_name": "OutputModel",
      "_view_count": null,
      "_view_module": "@jupyter-widgets/output",
      "_view_module_version": "1.0.0",
      "_view_name": "OutputView",
      "layout": "IPY_MODEL_6648b41ca13141be935d6de518cf8b0e",
      "msg_id": "",
      "outputs": [
       {
        "image/png": "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\n",
        "metadata": {
         "tags": []
        },
        "output_type": "display_data",
        "text/plain": "<IPython.core.display.Image object>"
       }
      ]
     }
    },
    "274d204206ba4cee9d089df6cd47c79b": {
     "model_module": "@jupyter-widgets/controls",
     "model_module_version": "1.5.0",
     "model_name": "SliderStyleModel",
     "state": {
      "_model_module": "@jupyter-widgets/controls",
      "_model_module_version": "1.5.0",
      "_model_name": "SliderStyleModel",
      "_view_count": null,
      "_view_module": "@jupyter-widgets/base",
      "_view_module_version": "1.2.0",
      "_view_name": "StyleView",
      "description_width": "",
      "handle_color": null
     }
    },
    "3b91822a74384ea890785230c3c29537": {
     "model_module": "@jupyter-widgets/controls",
     "model_module_version": "1.5.0",
     "model_name": "VBoxModel",
     "state": {
      "_dom_classes": [
       "widget-interact"
      ],
      "_model_module": "@jupyter-widgets/controls",
      "_model_module_version": "1.5.0",
      "_model_name": "VBoxModel",
      "_view_count": null,
      "_view_module": "@jupyter-widgets/controls",
      "_view_module_version": "1.5.0",
      "_view_name": "VBoxView",
      "box_style": "",
      "children": [
       "IPY_MODEL_0e9d2de7ee7c405ea81500311eef1760",
       "IPY_MODEL_909969f3cbe443b0a08782a48d3e74ef"
      ],
      "layout": "IPY_MODEL_00087c7897e848c9beec726a41ee6b9a"
     }
    },
    "3eec7dffd22a412285ad2f19d0d74efd": {
     "model_module": "@jupyter-widgets/base",
     "model_module_version": "1.2.0",
     "model_name": "LayoutModel",
     "state": {
      "_model_module": "@jupyter-widgets/base",
      "_model_module_version": "1.2.0",
      "_model_name": "LayoutModel",
      "_view_count": null,
      "_view_module": "@jupyter-widgets/base",
      "_view_module_version": "1.2.0",
      "_view_name": "LayoutView",
      "align_content": null,
      "align_items": null,
      "align_self": null,
      "border": null,
      "bottom": null,
      "display": null,
      "flex": null,
      "flex_flow": null,
      "grid_area": null,
      "grid_auto_columns": null,
      "grid_auto_flow": null,
      "grid_auto_rows": null,
      "grid_column": null,
      "grid_gap": null,
      "grid_row": null,
      "grid_template_areas": null,
      "grid_template_columns": null,
      "grid_template_rows": null,
      "height": null,
      "justify_content": null,
      "justify_items": null,
      "left": null,
      "margin": null,
      "max_height": null,
      "max_width": null,
      "min_height": null,
      "min_width": null,
      "object_fit": null,
      "object_position": null,
      "order": null,
      "overflow": null,
      "overflow_x": null,
      "overflow_y": null,
      "padding": null,
      "right": null,
      "top": null,
      "visibility": null,
      "width": null
     }
    },
    "5da84f76b9dd49e1a79dd598a1d39c98": {
     "model_module": "@jupyter-widgets/controls",
     "model_module_version": "1.5.0",
     "model_name": "SliderStyleModel",
     "state": {
      "_model_module": "@jupyter-widgets/controls",
      "_model_module_version": "1.5.0",
      "_model_name": "SliderStyleModel",
      "_view_count": null,
      "_view_module": "@jupyter-widgets/base",
      "_view_module_version": "1.2.0",
      "_view_name": "StyleView",
      "description_width": "",
      "handle_color": null
     }
    },
    "634eedf20b044448919c84a943ad469e": {
     "model_module": "@jupyter-widgets/base",
     "model_module_version": "1.2.0",
     "model_name": "LayoutModel",
     "state": {
      "_model_module": "@jupyter-widgets/base",
      "_model_module_version": "1.2.0",
      "_model_name": "LayoutModel",
      "_view_count": null,
      "_view_module": "@jupyter-widgets/base",
      "_view_module_version": "1.2.0",
      "_view_name": "LayoutView",
      "align_content": null,
      "align_items": null,
      "align_self": null,
      "border": null,
      "bottom": null,
      "display": null,
      "flex": null,
      "flex_flow": null,
      "grid_area": null,
      "grid_auto_columns": null,
      "grid_auto_flow": null,
      "grid_auto_rows": null,
      "grid_column": null,
      "grid_gap": null,
      "grid_row": null,
      "grid_template_areas": null,
      "grid_template_columns": null,
      "grid_template_rows": null,
      "height": null,
      "justify_content": null,
      "justify_items": null,
      "left": null,
      "margin": null,
      "max_height": null,
      "max_width": null,
      "min_height": null,
      "min_width": null,
      "object_fit": null,
      "object_position": null,
      "order": null,
      "overflow": null,
      "overflow_x": null,
      "overflow_y": null,
      "padding": null,
      "right": null,
      "top": null,
      "visibility": null,
      "width": null
     }
    },
    "651550f368c044aaa8633d07e4ba27fa": {
     "model_module": "@jupyter-widgets/controls",
     "model_module_version": "1.5.0",
     "model_name": "VBoxModel",
     "state": {
      "_dom_classes": [
       "widget-interact"
      ],
      "_model_module": "@jupyter-widgets/controls",
      "_model_module_version": "1.5.0",
      "_model_name": "VBoxModel",
      "_view_count": null,
      "_view_module": "@jupyter-widgets/controls",
      "_view_module_version": "1.5.0",
      "_view_name": "VBoxView",
      "box_style": "",
      "children": [
       "IPY_MODEL_765495de73b94949ad56c96241181de2",
       "IPY_MODEL_797fb5a902704fae88ad8ff0bbab6d0b"
      ],
      "layout": "IPY_MODEL_f144001a0ab0417eb1882cedc3e2d9a1"
     }
    },
    "66085cc53d1b4880a5b4c71f16506fdb": {
     "model_module": "@jupyter-widgets/output",
     "model_module_version": "1.0.0",
     "model_name": "OutputModel",
     "state": {
      "_dom_classes": [],
      "_model_module": "@jupyter-widgets/output",
      "_model_module_version": "1.0.0",
      "_model_name": "OutputModel",
      "_view_count": null,
      "_view_module": "@jupyter-widgets/output",
      "_view_module_version": "1.0.0",
      "_view_name": "OutputView",
      "layout": "IPY_MODEL_85a9053f99174377bd3709648fc8cd1a",
      "msg_id": "",
      "outputs": [
       {
        "image/png": "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\n",
        "metadata": {
         "tags": []
        },
        "output_type": "display_data",
        "text/plain": "<IPython.core.display.Image object>"
       }
      ]
     }
    },
    "6648b41ca13141be935d6de518cf8b0e": {
     "model_module": "@jupyter-widgets/base",
     "model_module_version": "1.2.0",
     "model_name": "LayoutModel",
     "state": {
      "_model_module": "@jupyter-widgets/base",
      "_model_module_version": "1.2.0",
      "_model_name": "LayoutModel",
      "_view_count": null,
      "_view_module": "@jupyter-widgets/base",
      "_view_module_version": "1.2.0",
      "_view_name": "LayoutView",
      "align_content": null,
      "align_items": null,
      "align_self": null,
      "border": null,
      "bottom": null,
      "display": null,
      "flex": null,
      "flex_flow": null,
      "grid_area": null,
      "grid_auto_columns": null,
      "grid_auto_flow": null,
      "grid_auto_rows": null,
      "grid_column": null,
      "grid_gap": null,
      "grid_row": null,
      "grid_template_areas": null,
      "grid_template_columns": null,
      "grid_template_rows": null,
      "height": null,
      "justify_content": null,
      "justify_items": null,
      "left": null,
      "margin": null,
      "max_height": null,
      "max_width": null,
      "min_height": null,
      "min_width": null,
      "object_fit": null,
      "object_position": null,
      "order": null,
      "overflow": null,
      "overflow_x": null,
      "overflow_y": null,
      "padding": null,
      "right": null,
      "top": null,
      "visibility": null,
      "width": null
     }
    },
    "6bf9b906328b4d2190f1f3cb31901cab": {
     "model_module": "@jupyter-widgets/controls",
     "model_module_version": "1.5.0",
     "model_name": "IntSliderModel",
     "state": {
      "_dom_classes": [],
      "_model_module": "@jupyter-widgets/controls",
      "_model_module_version": "1.5.0",
      "_model_name": "IntSliderModel",
      "_view_count": null,
      "_view_module": "@jupyter-widgets/controls",
      "_view_module_version": "1.5.0",
      "_view_name": "IntSliderView",
      "continuous_update": true,
      "description": "idx",
      "description_tooltip": null,
      "disabled": false,
      "layout": "IPY_MODEL_8fb0b5def92d4733b02aef0ec833bbd4",
      "max": 7,
      "min": 0,
      "orientation": "horizontal",
      "readout": true,
      "readout_format": "d",
      "step": 1,
      "style": "IPY_MODEL_9ca2c39724dd45c49af408bf29b774c1",
      "value": 7
     }
    },
    "6f876b7762d94057b290df68e3256688": {
     "model_module": "@jupyter-widgets/controls",
     "model_module_version": "1.5.0",
     "model_name": "VBoxModel",
     "state": {
      "_dom_classes": [
       "widget-interact"
      ],
      "_model_module": "@jupyter-widgets/controls",
      "_model_module_version": "1.5.0",
      "_model_name": "VBoxModel",
      "_view_count": null,
      "_view_module": "@jupyter-widgets/controls",
      "_view_module_version": "1.5.0",
      "_view_name": "VBoxView",
      "box_style": "",
      "children": [
       "IPY_MODEL_6bf9b906328b4d2190f1f3cb31901cab",
       "IPY_MODEL_20737fe5e9ff477e928940afc860834a"
      ],
      "layout": "IPY_MODEL_c049b00c7a9f43dbb9937785b8107aba"
     }
    },
    "765495de73b94949ad56c96241181de2": {
     "model_module": "@jupyter-widgets/controls",
     "model_module_version": "1.5.0",
     "model_name": "IntSliderModel",
     "state": {
      "_dom_classes": [],
      "_model_module": "@jupyter-widgets/controls",
      "_model_module_version": "1.5.0",
      "_model_name": "IntSliderModel",
      "_view_count": null,
      "_view_module": "@jupyter-widgets/controls",
      "_view_module_version": "1.5.0",
      "_view_name": "IntSliderView",
      "continuous_update": true,
      "description": "idx",
      "description_tooltip": null,
      "disabled": false,
      "layout": "IPY_MODEL_f76594c8793c49b9a761fd7631cbfd6d",
      "max": 3,
      "min": 0,
      "orientation": "horizontal",
      "readout": true,
      "readout_format": "d",
      "step": 1,
      "style": "IPY_MODEL_5da84f76b9dd49e1a79dd598a1d39c98",
      "value": 1
     }
    },
    "797fb5a902704fae88ad8ff0bbab6d0b": {
     "model_module": "@jupyter-widgets/output",
     "model_module_version": "1.0.0",
     "model_name": "OutputModel",
     "state": {
      "_dom_classes": [],
      "_model_module": "@jupyter-widgets/output",
      "_model_module_version": "1.0.0",
      "_model_name": "OutputModel",
      "_view_count": null,
      "_view_module": "@jupyter-widgets/output",
      "_view_module_version": "1.0.0",
      "_view_name": "OutputView",
      "layout": "IPY_MODEL_f692eb723d684a06b5b5330ebcdc8371",
      "msg_id": "",
      "outputs": [
       {
        "image/png": "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\n",
        "metadata": {
         "tags": []
        },
        "output_type": "display_data",
        "text/plain": "<IPython.core.display.Image object>"
       }
      ]
     }
    },
    "79e902ad6ad04eb69af5595f62c3b37d": {
     "model_module": "@jupyter-widgets/controls",
     "model_module_version": "1.5.0",
     "model_name": "SliderStyleModel",
     "state": {
      "_model_module": "@jupyter-widgets/controls",
      "_model_module_version": "1.5.0",
      "_model_name": "SliderStyleModel",
      "_view_count": null,
      "_view_module": "@jupyter-widgets/base",
      "_view_module_version": "1.2.0",
      "_view_name": "StyleView",
      "description_width": "",
      "handle_color": null
     }
    },
    "82559f7396bf4e659866c5a44588a151": {
     "model_module": "@jupyter-widgets/base",
     "model_module_version": "1.2.0",
     "model_name": "LayoutModel",
     "state": {
      "_model_module": "@jupyter-widgets/base",
      "_model_module_version": "1.2.0",
      "_model_name": "LayoutModel",
      "_view_count": null,
      "_view_module": "@jupyter-widgets/base",
      "_view_module_version": "1.2.0",
      "_view_name": "LayoutView",
      "align_content": null,
      "align_items": null,
      "align_self": null,
      "border": null,
      "bottom": null,
      "display": null,
      "flex": null,
      "flex_flow": null,
      "grid_area": null,
      "grid_auto_columns": null,
      "grid_auto_flow": null,
      "grid_auto_rows": null,
      "grid_column": null,
      "grid_gap": null,
      "grid_row": null,
      "grid_template_areas": null,
      "grid_template_columns": null,
      "grid_template_rows": null,
      "height": null,
      "justify_content": null,
      "justify_items": null,
      "left": null,
      "margin": null,
      "max_height": null,
      "max_width": null,
      "min_height": null,
      "min_width": null,
      "object_fit": null,
      "object_position": null,
      "order": null,
      "overflow": null,
      "overflow_x": null,
      "overflow_y": null,
      "padding": null,
      "right": null,
      "top": null,
      "visibility": null,
      "width": null
     }
    },
    "85a9053f99174377bd3709648fc8cd1a": {
     "model_module": "@jupyter-widgets/base",
     "model_module_version": "1.2.0",
     "model_name": "LayoutModel",
     "state": {
      "_model_module": "@jupyter-widgets/base",
      "_model_module_version": "1.2.0",
      "_model_name": "LayoutModel",
      "_view_count": null,
      "_view_module": "@jupyter-widgets/base",
      "_view_module_version": "1.2.0",
      "_view_name": "LayoutView",
      "align_content": null,
      "align_items": null,
      "align_self": null,
      "border": null,
      "bottom": null,
      "display": null,
      "flex": null,
      "flex_flow": null,
      "grid_area": null,
      "grid_auto_columns": null,
      "grid_auto_flow": null,
      "grid_auto_rows": null,
      "grid_column": null,
      "grid_gap": null,
      "grid_row": null,
      "grid_template_areas": null,
      "grid_template_columns": null,
      "grid_template_rows": null,
      "height": null,
      "justify_content": null,
      "justify_items": null,
      "left": null,
      "margin": null,
      "max_height": null,
      "max_width": null,
      "min_height": null,
      "min_width": null,
      "object_fit": null,
      "object_position": null,
      "order": null,
      "overflow": null,
      "overflow_x": null,
      "overflow_y": null,
      "padding": null,
      "right": null,
      "top": null,
      "visibility": null,
      "width": null
     }
    },
    "8fb0b5def92d4733b02aef0ec833bbd4": {
     "model_module": "@jupyter-widgets/base",
     "model_module_version": "1.2.0",
     "model_name": "LayoutModel",
     "state": {
      "_model_module": "@jupyter-widgets/base",
      "_model_module_version": "1.2.0",
      "_model_name": "LayoutModel",
      "_view_count": null,
      "_view_module": "@jupyter-widgets/base",
      "_view_module_version": "1.2.0",
      "_view_name": "LayoutView",
      "align_content": null,
      "align_items": null,
      "align_self": null,
      "border": null,
      "bottom": null,
      "display": null,
      "flex": null,
      "flex_flow": null,
      "grid_area": null,
      "grid_auto_columns": null,
      "grid_auto_flow": null,
      "grid_auto_rows": null,
      "grid_column": null,
      "grid_gap": null,
      "grid_row": null,
      "grid_template_areas": null,
      "grid_template_columns": null,
      "grid_template_rows": null,
      "height": null,
      "justify_content": null,
      "justify_items": null,
      "left": null,
      "margin": null,
      "max_height": null,
      "max_width": null,
      "min_height": null,
      "min_width": null,
      "object_fit": null,
      "object_position": null,
      "order": null,
      "overflow": null,
      "overflow_x": null,
      "overflow_y": null,
      "padding": null,
      "right": null,
      "top": null,
      "visibility": null,
      "width": null
     }
    },
    "909969f3cbe443b0a08782a48d3e74ef": {
     "model_module": "@jupyter-widgets/output",
     "model_module_version": "1.0.0",
     "model_name": "OutputModel",
     "state": {
      "_dom_classes": [],
      "_model_module": "@jupyter-widgets/output",
      "_model_module_version": "1.0.0",
      "_model_name": "OutputModel",
      "_view_count": null,
      "_view_module": "@jupyter-widgets/output",
      "_view_module_version": "1.0.0",
      "_view_name": "OutputView",
      "layout": "IPY_MODEL_93eee39a3b7b4105bf2815935a983aaf",
      "msg_id": "",
      "outputs": [
       {
        "image/png": "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\n",
        "metadata": {
         "tags": []
        },
        "output_type": "display_data",
        "text/plain": "<IPython.core.display.Image object>"
       }
      ]
     }
    },
    "93eee39a3b7b4105bf2815935a983aaf": {
     "model_module": "@jupyter-widgets/base",
     "model_module_version": "1.2.0",
     "model_name": "LayoutModel",
     "state": {
      "_model_module": "@jupyter-widgets/base",
      "_model_module_version": "1.2.0",
      "_model_name": "LayoutModel",
      "_view_count": null,
      "_view_module": "@jupyter-widgets/base",
      "_view_module_version": "1.2.0",
      "_view_name": "LayoutView",
      "align_content": null,
      "align_items": null,
      "align_self": null,
      "border": null,
      "bottom": null,
      "display": null,
      "flex": null,
      "flex_flow": null,
      "grid_area": null,
      "grid_auto_columns": null,
      "grid_auto_flow": null,
      "grid_auto_rows": null,
      "grid_column": null,
      "grid_gap": null,
      "grid_row": null,
      "grid_template_areas": null,
      "grid_template_columns": null,
      "grid_template_rows": null,
      "height": null,
      "justify_content": null,
      "justify_items": null,
      "left": null,
      "margin": null,
      "max_height": null,
      "max_width": null,
      "min_height": null,
      "min_width": null,
      "object_fit": null,
      "object_position": null,
      "order": null,
      "overflow": null,
      "overflow_x": null,
      "overflow_y": null,
      "padding": null,
      "right": null,
      "top": null,
      "visibility": null,
      "width": null
     }
    },
    "9ca2c39724dd45c49af408bf29b774c1": {
     "model_module": "@jupyter-widgets/controls",
     "model_module_version": "1.5.0",
     "model_name": "SliderStyleModel",
     "state": {
      "_model_module": "@jupyter-widgets/controls",
      "_model_module_version": "1.5.0",
      "_model_name": "SliderStyleModel",
      "_view_count": null,
      "_view_module": "@jupyter-widgets/base",
      "_view_module_version": "1.2.0",
      "_view_name": "StyleView",
      "description_width": "",
      "handle_color": null
     }
    },
    "b03fd54232bd410f97a437b806e9878b": {
     "model_module": "@jupyter-widgets/base",
     "model_module_version": "1.2.0",
     "model_name": "LayoutModel",
     "state": {
      "_model_module": "@jupyter-widgets/base",
      "_model_module_version": "1.2.0",
      "_model_name": "LayoutModel",
      "_view_count": null,
      "_view_module": "@jupyter-widgets/base",
      "_view_module_version": "1.2.0",
      "_view_name": "LayoutView",
      "align_content": null,
      "align_items": null,
      "align_self": null,
      "border": null,
      "bottom": null,
      "display": null,
      "flex": null,
      "flex_flow": null,
      "grid_area": null,
      "grid_auto_columns": null,
      "grid_auto_flow": null,
      "grid_auto_rows": null,
      "grid_column": null,
      "grid_gap": null,
      "grid_row": null,
      "grid_template_areas": null,
      "grid_template_columns": null,
      "grid_template_rows": null,
      "height": null,
      "justify_content": null,
      "justify_items": null,
      "left": null,
      "margin": null,
      "max_height": null,
      "max_width": null,
      "min_height": null,
      "min_width": null,
      "object_fit": null,
      "object_position": null,
      "order": null,
      "overflow": null,
      "overflow_x": null,
      "overflow_y": null,
      "padding": null,
      "right": null,
      "top": null,
      "visibility": null,
      "width": null
     }
    },
    "ba12b7dcc2524426b3424257d81272f9": {
     "model_module": "@jupyter-widgets/controls",
     "model_module_version": "1.5.0",
     "model_name": "VBoxModel",
     "state": {
      "_dom_classes": [
       "widget-interact"
      ],
      "_model_module": "@jupyter-widgets/controls",
      "_model_module_version": "1.5.0",
      "_model_name": "VBoxModel",
      "_view_count": null,
      "_view_module": "@jupyter-widgets/controls",
      "_view_module_version": "1.5.0",
      "_view_name": "VBoxView",
      "box_style": "",
      "children": [
       "IPY_MODEL_f15281dc2b1444398dff5d81fd5a30a3",
       "IPY_MODEL_091d510224174823aa33bbf68e1025d4"
      ],
      "layout": "IPY_MODEL_3eec7dffd22a412285ad2f19d0d74efd"
     }
    },
    "c049b00c7a9f43dbb9937785b8107aba": {
     "model_module": "@jupyter-widgets/base",
     "model_module_version": "1.2.0",
     "model_name": "LayoutModel",
     "state": {
      "_model_module": "@jupyter-widgets/base",
      "_model_module_version": "1.2.0",
      "_model_name": "LayoutModel",
      "_view_count": null,
      "_view_module": "@jupyter-widgets/base",
      "_view_module_version": "1.2.0",
      "_view_name": "LayoutView",
      "align_content": null,
      "align_items": null,
      "align_self": null,
      "border": null,
      "bottom": null,
      "display": null,
      "flex": null,
      "flex_flow": null,
      "grid_area": null,
      "grid_auto_columns": null,
      "grid_auto_flow": null,
      "grid_auto_rows": null,
      "grid_column": null,
      "grid_gap": null,
      "grid_row": null,
      "grid_template_areas": null,
      "grid_template_columns": null,
      "grid_template_rows": null,
      "height": null,
      "justify_content": null,
      "justify_items": null,
      "left": null,
      "margin": null,
      "max_height": null,
      "max_width": null,
      "min_height": null,
      "min_width": null,
      "object_fit": null,
      "object_position": null,
      "order": null,
      "overflow": null,
      "overflow_x": null,
      "overflow_y": null,
      "padding": null,
      "right": null,
      "top": null,
      "visibility": null,
      "width": null
     }
    },
    "c400111f6acf43fe954a07dd0d32c556": {
     "model_module": "@jupyter-widgets/controls",
     "model_module_version": "1.5.0",
     "model_name": "IntSliderModel",
     "state": {
      "_dom_classes": [],
      "_model_module": "@jupyter-widgets/controls",
      "_model_module_version": "1.5.0",
      "_model_name": "IntSliderModel",
      "_view_count": null,
      "_view_module": "@jupyter-widgets/controls",
      "_view_module_version": "1.5.0",
      "_view_name": "IntSliderView",
      "continuous_update": true,
      "description": "idx",
      "description_tooltip": null,
      "disabled": false,
      "layout": "IPY_MODEL_b03fd54232bd410f97a437b806e9878b",
      "max": 5,
      "min": 0,
      "orientation": "horizontal",
      "readout": true,
      "readout_format": "d",
      "step": 1,
      "style": "IPY_MODEL_79e902ad6ad04eb69af5595f62c3b37d",
      "value": 2
     }
    },
    "c52fcde1cee94b5591d579e6881e7ba1": {
     "model_module": "@jupyter-widgets/base",
     "model_module_version": "1.2.0",
     "model_name": "LayoutModel",
     "state": {
      "_model_module": "@jupyter-widgets/base",
      "_model_module_version": "1.2.0",
      "_model_name": "LayoutModel",
      "_view_count": null,
      "_view_module": "@jupyter-widgets/base",
      "_view_module_version": "1.2.0",
      "_view_name": "LayoutView",
      "align_content": null,
      "align_items": null,
      "align_self": null,
      "border": null,
      "bottom": null,
      "display": null,
      "flex": null,
      "flex_flow": null,
      "grid_area": null,
      "grid_auto_columns": null,
      "grid_auto_flow": null,
      "grid_auto_rows": null,
      "grid_column": null,
      "grid_gap": null,
      "grid_row": null,
      "grid_template_areas": null,
      "grid_template_columns": null,
      "grid_template_rows": null,
      "height": null,
      "justify_content": null,
      "justify_items": null,
      "left": null,
      "margin": null,
      "max_height": null,
      "max_width": null,
      "min_height": null,
      "min_width": null,
      "object_fit": null,
      "object_position": null,
      "order": null,
      "overflow": null,
      "overflow_x": null,
      "overflow_y": null,
      "padding": null,
      "right": null,
      "top": null,
      "visibility": null,
      "width": null
     }
    },
    "da585ffd45084aeaacf87484a1a935a7": {
     "model_module": "@jupyter-widgets/controls",
     "model_module_version": "1.5.0",
     "model_name": "SliderStyleModel",
     "state": {
      "_model_module": "@jupyter-widgets/controls",
      "_model_module_version": "1.5.0",
      "_model_name": "SliderStyleModel",
      "_view_count": null,
      "_view_module": "@jupyter-widgets/base",
      "_view_module_version": "1.2.0",
      "_view_name": "StyleView",
      "description_width": "",
      "handle_color": null
     }
    },
    "e35b798a82c04266888d624d56a7336d": {
     "model_module": "@jupyter-widgets/base",
     "model_module_version": "1.2.0",
     "model_name": "LayoutModel",
     "state": {
      "_model_module": "@jupyter-widgets/base",
      "_model_module_version": "1.2.0",
      "_model_name": "LayoutModel",
      "_view_count": null,
      "_view_module": "@jupyter-widgets/base",
      "_view_module_version": "1.2.0",
      "_view_name": "LayoutView",
      "align_content": null,
      "align_items": null,
      "align_self": null,
      "border": null,
      "bottom": null,
      "display": null,
      "flex": null,
      "flex_flow": null,
      "grid_area": null,
      "grid_auto_columns": null,
      "grid_auto_flow": null,
      "grid_auto_rows": null,
      "grid_column": null,
      "grid_gap": null,
      "grid_row": null,
      "grid_template_areas": null,
      "grid_template_columns": null,
      "grid_template_rows": null,
      "height": null,
      "justify_content": null,
      "justify_items": null,
      "left": null,
      "margin": null,
      "max_height": null,
      "max_width": null,
      "min_height": null,
      "min_width": null,
      "object_fit": null,
      "object_position": null,
      "order": null,
      "overflow": null,
      "overflow_x": null,
      "overflow_y": null,
      "padding": null,
      "right": null,
      "top": null,
      "visibility": null,
      "width": null
     }
    },
    "e66e36d64fca4243bcb1b31015cd0024": {
     "model_module": "@jupyter-widgets/controls",
     "model_module_version": "1.5.0",
     "model_name": "VBoxModel",
     "state": {
      "_dom_classes": [
       "widget-interact"
      ],
      "_model_module": "@jupyter-widgets/controls",
      "_model_module_version": "1.5.0",
      "_model_name": "VBoxModel",
      "_view_count": null,
      "_view_module": "@jupyter-widgets/controls",
      "_view_module_version": "1.5.0",
      "_view_name": "VBoxView",
      "box_style": "",
      "children": [
       "IPY_MODEL_c400111f6acf43fe954a07dd0d32c556",
       "IPY_MODEL_66085cc53d1b4880a5b4c71f16506fdb"
      ],
      "layout": "IPY_MODEL_e35b798a82c04266888d624d56a7336d"
     }
    },
    "f144001a0ab0417eb1882cedc3e2d9a1": {
     "model_module": "@jupyter-widgets/base",
     "model_module_version": "1.2.0",
     "model_name": "LayoutModel",
     "state": {
      "_model_module": "@jupyter-widgets/base",
      "_model_module_version": "1.2.0",
      "_model_name": "LayoutModel",
      "_view_count": null,
      "_view_module": "@jupyter-widgets/base",
      "_view_module_version": "1.2.0",
      "_view_name": "LayoutView",
      "align_content": null,
      "align_items": null,
      "align_self": null,
      "border": null,
      "bottom": null,
      "display": null,
      "flex": null,
      "flex_flow": null,
      "grid_area": null,
      "grid_auto_columns": null,
      "grid_auto_flow": null,
      "grid_auto_rows": null,
      "grid_column": null,
      "grid_gap": null,
      "grid_row": null,
      "grid_template_areas": null,
      "grid_template_columns": null,
      "grid_template_rows": null,
      "height": null,
      "justify_content": null,
      "justify_items": null,
      "left": null,
      "margin": null,
      "max_height": null,
      "max_width": null,
      "min_height": null,
      "min_width": null,
      "object_fit": null,
      "object_position": null,
      "order": null,
      "overflow": null,
      "overflow_x": null,
      "overflow_y": null,
      "padding": null,
      "right": null,
      "top": null,
      "visibility": null,
      "width": null
     }
    },
    "f15281dc2b1444398dff5d81fd5a30a3": {
     "model_module": "@jupyter-widgets/controls",
     "model_module_version": "1.5.0",
     "model_name": "IntSliderModel",
     "state": {
      "_dom_classes": [],
      "_model_module": "@jupyter-widgets/controls",
      "_model_module_version": "1.5.0",
      "_model_name": "IntSliderModel",
      "_view_count": null,
      "_view_module": "@jupyter-widgets/controls",
      "_view_module_version": "1.5.0",
      "_view_name": "IntSliderView",
      "continuous_update": true,
      "description": "idx",
      "description_tooltip": null,
      "disabled": false,
      "layout": "IPY_MODEL_634eedf20b044448919c84a943ad469e",
      "max": 9,
      "min": 0,
      "orientation": "horizontal",
      "readout": true,
      "readout_format": "d",
      "step": 1,
      "style": "IPY_MODEL_274d204206ba4cee9d089df6cd47c79b",
      "value": 4
     }
    },
    "f692eb723d684a06b5b5330ebcdc8371": {
     "model_module": "@jupyter-widgets/base",
     "model_module_version": "1.2.0",
     "model_name": "LayoutModel",
     "state": {
      "_model_module": "@jupyter-widgets/base",
      "_model_module_version": "1.2.0",
      "_model_name": "LayoutModel",
      "_view_count": null,
      "_view_module": "@jupyter-widgets/base",
      "_view_module_version": "1.2.0",
      "_view_name": "LayoutView",
      "align_content": null,
      "align_items": null,
      "align_self": null,
      "border": null,
      "bottom": null,
      "display": null,
      "flex": null,
      "flex_flow": null,
      "grid_area": null,
      "grid_auto_columns": null,
      "grid_auto_flow": null,
      "grid_auto_rows": null,
      "grid_column": null,
      "grid_gap": null,
      "grid_row": null,
      "grid_template_areas": null,
      "grid_template_columns": null,
      "grid_template_rows": null,
      "height": null,
      "justify_content": null,
      "justify_items": null,
      "left": null,
      "margin": null,
      "max_height": null,
      "max_width": null,
      "min_height": null,
      "min_width": null,
      "object_fit": null,
      "object_position": null,
      "order": null,
      "overflow": null,
      "overflow_x": null,
      "overflow_y": null,
      "padding": null,
      "right": null,
      "top": null,
      "visibility": null,
      "width": null
     }
    },
    "f76594c8793c49b9a761fd7631cbfd6d": {
     "model_module": "@jupyter-widgets/base",
     "model_module_version": "1.2.0",
     "model_name": "LayoutModel",
     "state": {
      "_model_module": "@jupyter-widgets/base",
      "_model_module_version": "1.2.0",
      "_model_name": "LayoutModel",
      "_view_count": null,
      "_view_module": "@jupyter-widgets/base",
      "_view_module_version": "1.2.0",
      "_view_name": "LayoutView",
      "align_content": null,
      "align_items": null,
      "align_self": null,
      "border": null,
      "bottom": null,
      "display": null,
      "flex": null,
      "flex_flow": null,
      "grid_area": null,
      "grid_auto_columns": null,
      "grid_auto_flow": null,
      "grid_auto_rows": null,
      "grid_column": null,
      "grid_gap": null,
      "grid_row": null,
      "grid_template_areas": null,
      "grid_template_columns": null,
      "grid_template_rows": null,
      "height": null,
      "justify_content": null,
      "justify_items": null,
      "left": null,
      "margin": null,
      "max_height": null,
      "max_width": null,
      "min_height": null,
      "min_width": null,
      "object_fit": null,
      "object_position": null,
      "order": null,
      "overflow": null,
      "overflow_x": null,
      "overflow_y": null,
      "padding": null,
      "right": null,
      "top": null,
      "visibility": null,
      "width": null
     }
    }
   }
  }
 },
 "nbformat": 4,
 "nbformat_minor": 1
}
