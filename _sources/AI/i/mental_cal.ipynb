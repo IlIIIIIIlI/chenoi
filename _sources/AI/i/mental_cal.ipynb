{
 "cells": [
  {
   "cell_type": "markdown",
   "id": "3a0c46f6",
   "metadata": {},
   "source": [
    "(mentalCal)=\n",
    "# practice mental calculation"
   ]
  },
  {
   "cell_type": "code",
   "execution_count": 16,
   "id": "280b0ea4",
   "metadata": {
    "tags": [
     "hide-input"
    ]
   },
   "outputs": [
    {
     "name": "stdout",
     "output_type": "stream",
     "text": [
      "87*24\n",
      "87*24\n",
      "False\n",
      "your input: 123\n",
      "the true answer: 2088\n",
      "time cost:  3.099858522415161 seconds\n"
     ]
    }
   ],
   "source": [
    "import random \n",
    "import time\n",
    "import re\n",
    "\n",
    "a = random.randrange(11, 99)\n",
    "b = random.randrange(11, 99)\n",
    "print(str(a)+\"*\"+str(b))\n",
    "time_start=time.time()\n",
    "print(str(a)+\"*\"+str(b))\n",
    "result = input(\"your answer: \")\n",
    "result = re.findall(\"\\d+\",result)[0]\n",
    "time_end=time.time()\n",
    "print(result==a*b)\n",
    "print(\"your input: \" + str(result))\n",
    "print(\"the true answer: \" + str(a*b))\n",
    "print('time cost: ',time_end-time_start,'seconds')"
   ]
  },
  {
   "cell_type": "code",
   "execution_count": null,
   "id": "5ec930fd",
   "metadata": {},
   "outputs": [],
   "source": []
  }
 ],
 "metadata": {
  "celltoolbar": "Edit Metadata",
  "kernelspec": {
   "display_name": "Python 3 (ipykernel)",
   "language": "python",
   "name": "python3"
  },
  "language_info": {
   "codemirror_mode": {
    "name": "ipython",
    "version": 3
   },
   "file_extension": ".py",
   "mimetype": "text/x-python",
   "name": "python",
   "nbconvert_exporter": "python",
   "pygments_lexer": "ipython3",
   "version": "3.8.3"
  },
  "toc": {
   "base_numbering": 1,
   "nav_menu": {},
   "number_sections": true,
   "sideBar": true,
   "skip_h1_title": false,
   "title_cell": "Table of Contents",
   "title_sidebar": "Contents",
   "toc_cell": false,
   "toc_position": {},
   "toc_section_display": true,
   "toc_window_display": false
  },
  "vscode": {
   "interpreter": {
    "hash": "e0871a911c0bfa5eb8193266de54d0e9eefcb45ee3e025eb5efaa5ff310592d8"
   }
  }
 },
 "nbformat": 4,
 "nbformat_minor": 5
}
